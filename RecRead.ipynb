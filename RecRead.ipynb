{
  "nbformat": 4,
  "nbformat_minor": 0,
  "metadata": {
    "colab": {
      "name": "RecRead.ipynb",
      "provenance": [],
      "collapsed_sections": [],
      "include_colab_link": true
    },
    "kernelspec": {
      "name": "python3",
      "display_name": "Python 3"
    }
  },
  "cells": [
    {
      "cell_type": "markdown",
      "metadata": {
        "id": "view-in-github",
        "colab_type": "text"
      },
      "source": [
        "<a href=\"https://colab.research.google.com/github/JanineBirnbaum18/3-phase-flow/blob/master/RecRead.ipynb\" target=\"_parent\"><img src=\"https://colab.research.google.com/assets/colab-badge.svg\" alt=\"Open In Colab\"/></a>"
      ]
    },
    {
      "cell_type": "markdown",
      "metadata": {
        "id": "5PIQIg6-i3q1"
      },
      "source": [
        ""
      ]
    },
    {
      "cell_type": "code",
      "metadata": {
        "colab": {
          "base_uri": "https://localhost:8080/"
        },
        "id": "2zb-k67DkjOO",
        "outputId": "c8216082-3ada-4aac-b586-18909b3cbb27"
      },
      "source": [
        "%%bash\r\n",
        "source activate environment.yml"
      ],
      "execution_count": 5,
      "outputs": [
        {
          "output_type": "stream",
          "text": [
            "bash: line 1: activate: No such file or directory\n"
          ],
          "name": "stderr"
        }
      ]
    },
    {
      "cell_type": "code",
      "metadata": {
        "colab": {
          "base_uri": "https://localhost:8080/"
        },
        "id": "CW_zX1A8hn4I",
        "outputId": "4d015b86-13f6-4e76-c1df-9147a1955461"
      },
      "source": [
        "from bokeh import plotting as bplt\r\n",
        "import numpy\r\n",
        "import obspy\r\n",
        "from matplotlib import pyplot as plt\r\n",
        "%matplotlib inline"
      ],
      "execution_count": 3,
      "outputs": [
        {
          "output_type": "stream",
          "text": [
            "bash: line 1: activate: No such file or directory\n",
            "from: can't read /var/mail/bokeh\n",
            "bash: line 4: import: command not found\n",
            "bash: line 5: import: command not found\n",
            "from: can't read /var/mail/matplotlib\n",
            "bash: line 7: fg: no job control\n"
          ],
          "name": "stderr"
        }
      ]
    },
    {
      "cell_type": "code",
      "metadata": {
        "colab": {
          "base_uri": "https://localhost:8080/"
        },
        "id": "_siQ_4DAjduu",
        "outputId": "1d270371-325c-48ed-b574-16ecdbad3dfb"
      },
      "source": [
        "print (help('modules'))"
      ],
      "execution_count": 2,
      "outputs": [
        {
          "output_type": "stream",
          "text": [
            "\n",
            "Please wait a moment while I gather a list of all available modules...\n",
            "\n"
          ],
          "name": "stdout"
        },
        {
          "output_type": "stream",
          "text": [
            "/usr/local/lib/python3.7/dist-packages/IPython/kernel/__init__.py:13: ShimWarning: The `IPython.kernel` package has been deprecated since IPython 4.0.You should import from ipykernel or jupyter_client instead.\n",
            "  \"You should import from ipykernel or jupyter_client instead.\", ShimWarning)\n",
            "WARNING: AstropyDeprecationWarning: The private astropy._erfa module has been made into its own package, pyerfa, which is a dependency of astropy and can be imported directly using \"import erfa\" [astropy._erfa]\n",
            "/usr/local/lib/python3.7/dist-packages/datascience/tables.py:17: MatplotlibDeprecationWarning:\n",
            "\n",
            "The 'warn' parameter of use() is deprecated since Matplotlib 3.1 and will be removed in 3.3.  If any parameter follows 'warn', they should be pass as keyword, not positionally.\n",
            "\n",
            "/usr/local/lib/python3.7/dist-packages/datascience/util.py:10: MatplotlibDeprecationWarning:\n",
            "\n",
            "The 'warn' parameter of use() is deprecated since Matplotlib 3.1 and will be removed in 3.3.  If any parameter follows 'warn', they should be pass as keyword, not positionally.\n",
            "\n",
            "/usr/local/lib/python3.7/dist-packages/psycopg2/__init__.py:144: UserWarning:\n",
            "\n",
            "The psycopg2 wheel package will be renamed from release 2.8; in order to keep installing from binary please use \"pip install psycopg2-binary\" instead. For details see: <http://initd.org/psycopg/docs/install.html#binary-install-from-pypi>.\n",
            "\n",
            "/usr/local/lib/python3.7/dist-packages/sklearn/externals/six.py:31: FutureWarning:\n",
            "\n",
            "The module is deprecated in version 0.21 and will be removed in version 0.23 since we've dropped support for Python 2.7. Please rely on the official version of six (https://pypi.org/project/six/).\n",
            "\n",
            "/usr/local/lib/python3.7/dist-packages/sklearn/utils/deprecation.py:144: FutureWarning:\n",
            "\n",
            "The sklearn.neighbors.base module is  deprecated in version 0.22 and will be removed in version 0.24. The corresponding classes / functions should instead be imported from sklearn.neighbors. Anything that cannot be imported from sklearn.neighbors is now part of the private API.\n",
            "\n",
            "/usr/local/lib/python3.7/dist-packages/sklearn/utils/deprecation.py:144: FutureWarning:\n",
            "\n",
            "The sklearn.datasets.base module is  deprecated in version 0.22 and will be removed in version 0.24. The corresponding classes / functions should instead be imported from sklearn.datasets. Anything that cannot be imported from sklearn.datasets is now part of the private API.\n",
            "\n",
            "/usr/local/lib/python3.7/dist-packages/sklearn/utils/deprecation.py:144: FutureWarning:\n",
            "\n",
            "The sklearn.ensemble.bagging module is  deprecated in version 0.22 and will be removed in version 0.24. The corresponding classes / functions should instead be imported from sklearn.ensemble. Anything that cannot be imported from sklearn.ensemble is now part of the private API.\n",
            "\n",
            "/usr/local/lib/python3.7/dist-packages/sklearn/utils/deprecation.py:144: FutureWarning:\n",
            "\n",
            "The sklearn.ensemble.base module is  deprecated in version 0.22 and will be removed in version 0.24. The corresponding classes / functions should instead be imported from sklearn.ensemble. Anything that cannot be imported from sklearn.ensemble is now part of the private API.\n",
            "\n",
            "/usr/local/lib/python3.7/dist-packages/sklearn/utils/deprecation.py:144: FutureWarning:\n",
            "\n",
            "The sklearn.ensemble.forest module is  deprecated in version 0.22 and will be removed in version 0.24. The corresponding classes / functions should instead be imported from sklearn.ensemble. Anything that cannot be imported from sklearn.ensemble is now part of the private API.\n",
            "\n",
            "/usr/local/lib/python3.7/dist-packages/sklearn/externals/joblib/__init__.py:15: FutureWarning:\n",
            "\n",
            "sklearn.externals.joblib is deprecated in 0.21 and will be removed in 0.23. Please import this functionality directly from joblib, which can be installed with: pip install joblib. If this warning is raised when loading pickled models, you may need to re-serialize those models with scikit-learn 0.21+.\n",
            "\n",
            "/usr/local/lib/python3.7/dist-packages/sklearn/utils/deprecation.py:144: FutureWarning:\n",
            "\n",
            "The sklearn.utils.testing module is  deprecated in version 0.22 and will be removed in version 0.24. The corresponding classes / functions should instead be imported from sklearn.utils. Anything that cannot be imported from sklearn.utils is now part of the private API.\n",
            "\n",
            "/usr/local/lib/python3.7/dist-packages/sklearn/utils/deprecation.py:144: FutureWarning:\n",
            "\n",
            "The sklearn.metrics.classification module is  deprecated in version 0.22 and will be removed in version 0.24. The corresponding classes / functions should instead be imported from sklearn.metrics. Anything that cannot be imported from sklearn.metrics is now part of the private API.\n",
            "\n"
          ],
          "name": "stderr"
        },
        {
          "output_type": "stream",
          "text": [
            "Downloading http://dlib.net/files/shape_predictor_68_face_landmarks.dat.bz2 to /root/mlxtend_data/shape_predictor_68_face_landmarks.dat.bz2\n"
          ],
          "name": "stdout"
        },
        {
          "output_type": "stream",
          "text": [
            "/usr/lib/python3.7/pkgutil.py:92: UserWarning:\n",
            "\n",
            "The DICOM readers are highly experimental, unstable, and only work for Siemens time-series at the moment\n",
            "Please use with caution.  We would be grateful for your help in improving them\n",
            "\n",
            "/usr/local/lib/python3.7/dist-packages/nltk/twitter/__init__.py:20: UserWarning:\n",
            "\n",
            "The twython library has not been installed. Some functionality from the twitter package will not be available.\n",
            "\n",
            "Exception ignored in: <_io.FileIO name='/usr/local/lib/python3.7/dist-packages/theano/gof/c_code/lazylinker_c.c' mode='rb' closefd=True>\n",
            "ResourceWarning: unclosed file <_io.TextIOWrapper name='/usr/local/lib/python3.7/dist-packages/theano/gof/c_code/lazylinker_c.c' mode='r' encoding='UTF-8'>\n",
            "WARNING:pystan:This submodule contains experimental code, please use with caution\n"
          ],
          "name": "stderr"
        },
        {
          "output_type": "stream",
          "text": [
            "Cython              community           keras               random\n",
            "IPython             compileall          keras_preprocessing re\n",
            "OpenGL              concurrent          keyword             readline\n",
            "PIL                 configparser        kiwisolver          regex\n",
            "ScreenResolution    contextlib          knnimpute           reprlib\n",
            "__future__          contextlib2         korean_lunar_calendar requests\n",
            "_abc                contextvars         lib2to3             requests_oauthlib\n",
            "_ast                convertdate         libfuturize         resampy\n",
            "_asyncio            copy                libpasteurize       resource\n",
            "_bisect             copyreg             librosa             retrying\n",
            "_blake2             coverage            lightgbm            rlcompleter\n",
            "_bootlocale         coveralls           linecache           rmagic\n",
            "_bz2                crcmod              llvmlite            rpy2\n",
            "_cffi_backend       crypt               lmdb                rsa\n",
            "_codecs             csv                 locale              runpy\n",
            "_codecs_cn          ctypes              logging             samples\n",
            "_codecs_hk          cufflinks           lsb_release         sched\n",
            "_codecs_iso2022     curses              lucid               scipy\n",
            "_codecs_jp          cv2                 lunarcalendar       scs\n",
            "_codecs_kr          cvxopt              lxml                seaborn\n",
            "_codecs_tw          cvxpy               lzma                secrets\n",
            "_collections        cycler              macpath             select\n",
            "_collections_abc    cymem               mailbox             selectors\n",
            "_compat_pickle      cython              mailcap             send2trash\n",
            "_compression        cythonmagic         markdown            setuptools\n",
            "_contextvars        daft                markupsafe          setuptools_git\n",
            "_crypt              dask                marshal             shapely\n",
            "_csv                dataclasses         math                shelve\n",
            "_ctypes             datascience         matplotlib          shlex\n",
            "_ctypes_test        datetime            matplotlib_venn     shutil\n",
            "_curses             dateutil            mimetypes           signal\n",
            "_curses_panel       dbm                 missingno           simplegeneric\n",
            "_cvxcore            dbus                mistune             site\n",
            "_datetime           debugpy             mizani              sitecustomize\n",
            "_dbm                decimal             mlxtend             six\n",
            "_decimal            decorator           mmap                skimage\n",
            "_distutils_hack     defusedxml          modulefinder        sklearn\n",
            "_dummy_thread       descartes           more_itertools      sklearn_pandas\n",
            "_ecos               difflib             moviepy             slugify\n",
            "_elementtree        dill                mpmath              smart_open\n",
            "_functools          dis                 msgpack             smtpd\n",
            "_hashlib            distributed         multiprocess        smtplib\n",
            "_heapq              distutils           multiprocessing     sndhdr\n",
            "_imp                django              multitasking        snowballstemmer\n",
            "_io                 dlib                murmurhash          socket\n",
            "_json               docopt              music21             socketserver\n",
            "_locale             docs                natsort             socks\n",
            "_lsprof             doctest             nbclient            sockshandler\n",
            "_lzma               docutils            nbconvert           softwareproperties\n",
            "_markupbase         dopamine            nbformat            sortedcontainers\n",
            "_md5                dot_parser          nest_asyncio        soundfile\n",
            "_multibytecodec     dummy_threading     netrc               spacy\n",
            "_multiprocess       easydict            networkx            sphinx\n",
            "_multiprocessing    ecos                nibabel             spwd\n",
            "_opcode             editdistance        nis                 sql\n",
            "_operator           ee                  nisext              sqlalchemy\n",
            "_osx_support        email               nltk                sqlite3\n",
            "_pickle             en_core_web_sm      nntplib             sqlparse\n",
            "_plotly_future_     encodings           notebook            sre_compile\n",
            "_plotly_utils       entrypoints         np_utils            sre_constants\n",
            "_posixsubprocess    enum                ntpath              sre_parse\n",
            "_py_abc             ephem               nturl2path          srsly\n",
            "_pydecimal          erfa                numba               ssl\n",
            "_pyio               errno               numbergen           stat\n",
            "_pyrsistent_version et_xmlfile          numbers             statistics\n",
            "_pytest             examples            numexpr             statsmodels\n",
            "_queue              fa2                 numpy               storemagic\n",
            "_random             fancyimpute         nvidia_smi          string\n",
            "_rinterface_cffi_abi fastai              oauth2client        stringprep\n",
            "_rinterface_cffi_api fastdtw             oauthlib            struct\n",
            "_scs_direct         fastprogress        ogr                 subprocess\n",
            "_scs_indirect       fastrlock           okgrade             sunau\n",
            "_scs_python         faulthandler        onnx_chainer        symbol\n",
            "_sha1               fbprophet           opcode              sympy\n",
            "_sha256             fcntl               openpyxl            sympyprinting\n",
            "_sha3               feather             operator            symtable\n",
            "_sha512             filecmp             opt_einsum          sys\n",
            "_signal             fileinput           optparse            sysconfig\n",
            "_sitebuiltins       filelock            os                  syslog\n",
            "_socket             firebase_admin      osgeo               tables\n",
            "_soundfile          fix_yahoo_finance   osqp                tabnanny\n",
            "_sqlite3            flask               osqppurepy          tabulate\n",
            "_sre                flatbuffers         osr                 tarfile\n",
            "_ssl                fnmatch             ossaudiodev         tblib\n",
            "_stat               folium              packaging           telnetlib\n",
            "_string             formatter           palettable          tempfile\n",
            "_strptime           fractions           pandas              tensorboard\n",
            "_struct             ftplib              pandas_datareader   tensorboard_plugin_wit\n",
            "_symtable           functools           pandas_gbq          tensorflow\n",
            "_sysconfigdata_m_linux_x86_64-linux-gnu future              pandas_profiling    tensorflow_datasets\n",
            "_testbuffer         gast                pandocfilters       tensorflow_estimator\n",
            "_testcapi           gc                  panel               tensorflow_gcs_config\n",
            "_testimportmultiple gdal                param               tensorflow_hub\n",
            "_testmultiphase     gdalconst           parser              tensorflow_metadata\n",
            "_thread             gdalnumeric         parso               tensorflow_probability\n",
            "_threading_local    gdown               past                termcolor\n",
            "_tkinter            genericpath         pasta               terminado\n",
            "_tracemalloc        gensim              pathlib             termios\n",
            "_warnings           geographiclib       patsy               test\n",
            "_weakref            geopy               pdb                 testpath\n",
            "_weakrefset         getopt              pexpect             tests\n",
            "_xxtestfuzz         getpass             pickle              text_unidecode\n",
            "abc                 gettext             pickleshare         textblob\n",
            "absl                gi                  pickletools         textgenrnn\n",
            "aifc                gin                 pip                 textwrap\n",
            "alabaster           github2pypi         pipes               theano\n",
            "albumentations      glob                piptools            thinc\n",
            "altair              glob2               pkg_resources       this\n",
            "antigravity         gnm                 pkgutil             threading\n",
            "apiclient           google_auth_httplib2 plac                tifffile\n",
            "appdirs             google_auth_oauthlib plac_core           time\n",
            "apt                 google_drive_downloader plac_ext            timeit\n",
            "apt_inst            googleapiclient     plac_tk             tkinter\n",
            "apt_pkg             googlesearch        platform            tlz\n",
            "aptsources          graphviz            plistlib            token\n",
            "argon2              gridfs              plotly              tokenize\n",
            "argparse            grp                 plotlywidget        toml\n",
            "array               grpc                plotnine            toolz\n",
            "asgiref             gspread             pluggy              torch\n",
            "ast                 gspread_dataframe   pooch               torchsummary\n",
            "astor               gym                 poplib              torchtext\n",
            "astropy             gzip                portpicker          torchvision\n",
            "astunparse          h5py                posix               tornado\n",
            "async_generator     hashlib             posixpath           tqdm\n",
            "asynchat            heapdict            pprint              trace\n",
            "asyncio             heapq               prefetch_generator  traceback\n",
            "asyncore            hijri_converter     preshed             tracemalloc\n",
            "atari_py            hmac                prettytable         traitlets\n",
            "atexit              holidays            profile             tree\n",
            "atomicwrites        holoviews           progressbar         tty\n",
            "attr                html                prometheus_client   turtle\n",
            "audioop             html5lib            promise             tweepy\n",
            "audioread           http                prompt_toolkit      typeguard\n",
            "autograd            httpimport          pstats              types\n",
            "autoreload          httplib2            psutil              typing\n",
            "babel               httplib2shim        psycopg2            typing_extensions\n",
            "backcall            humanize            pty                 tzlocal\n",
            "base64              hyperopt            ptyprocess          umap\n",
            "bdb                 ideep4py            pvectorc            unicodedata\n",
            "bin                 idna                pwd                 unittest\n",
            "binascii            image               py                  uritemplate\n",
            "binhex              imageio             py_compile          urllib\n",
            "bisect              imagesize           pyarrow             urllib3\n",
            "bleach              imaplib             pyasn1              uu\n",
            "blis                imblearn            pyasn1_modules      uuid\n",
            "bokeh               imgaug              pyclbr              vega_datasets\n",
            "boost               imghdr              pycocotools         venv\n",
            "bottleneck          imp                 pycparser           vis\n",
            "branca              importlib           pyct                warnings\n",
            "bs4                 importlib_metadata  pydata_google_auth  wasabi\n",
            "bson                importlib_resources pydoc               wave\n",
            "builtins            imutils             pydoc_data          wcwidth\n",
            "bz2                 inflect             pydot               weakref\n",
            "cProfile            iniconfig           pydot_ng            webbrowser\n",
            "cachecontrol        inspect             pydotplus           webencodings\n",
            "cachetools          intervaltree        pydrive             werkzeug\n",
            "caffe2              io                  pyemd               wheel\n",
            "calendar            ipaddress           pyexpat             widgetsnbextension\n",
            "catalogue           ipykernel           pyglet              wordcloud\n",
            "certifi             ipykernel_launcher  pygments            wrapt\n",
            "cffi                ipython_genutils    pygtkcompat         wsgiref\n",
            "cgi                 ipywidgets          pylab               xarray\n",
            "cgitb               isympy              pymc3               xdrlib\n",
            "chainer             itertools           pymeeus             xgboost\n",
            "chainermn           itsdangerous        pymongo             xkit\n",
            "chainerx            jax                 pymystem3           xlrd\n",
            "chardet             jaxlib              pynndescent         xlwt\n",
            "chess               jdcal               pynvml              xml\n",
            "chunk               jedi                pyparsing           xmlrpc\n",
            "click               jieba               pyrsistent          xxlimited\n",
            "client              jinja2              pysndfile           xxsubtype\n",
            "cloudpickle         joblib              pystan              yaml\n",
            "cmake               jpeg4py             pytest              yellowbrick\n",
            "cmath               json                python_utils        zict\n",
            "cmd                 jsonschema          pytz                zipapp\n",
            "cmdstanpy           jupyter             pyviz_comms         zipfile\n",
            "code                jupyter_client      pywt                zipimport\n",
            "codecs              jupyter_console     pyximport           zipp\n",
            "codeop              jupyter_core        qdldl               zlib\n",
            "colab               jupyterlab_pygments qtconsole           zmq\n",
            "collections         jupyterlab_widgets  qtpy                \n",
            "colorlover          kaggle              queue               \n",
            "colorsys            kapre               quopri              \n",
            "\n",
            "Enter any module name to get more help.  Or, type \"modules spam\" to search\n",
            "for modules whose name or summary contain the string \"spam\".\n",
            "\n",
            "None\n"
          ],
          "name": "stdout"
        }
      ]
    },
    {
      "cell_type": "code",
      "metadata": {
        "id": "kUebZSHmiFBx"
      },
      "source": [
        "# Selecting an event\r\n",
        "  \r\n",
        "# output to notebook \r\n",
        "bplt.output_notebook() \r\n",
        "  \r\n",
        "# create figure \r\n",
        "p = bplt.figure(plot_width = 400, plot_height = 400) \r\n",
        "  \r\n",
        "# add a circle renderer with \r\n",
        "# size, color and alpha \r\n",
        "p.circle([1, 2, 3, 4, 5], [4, 7, 1, 6, 3],  \r\n",
        "         size = 10, color = \"navy\", alpha = 0.5) \r\n",
        "  \r\n",
        "# show the results \r\n",
        "bpltshow(p)  "
      ],
      "execution_count": null,
      "outputs": []
    }
  ]
}
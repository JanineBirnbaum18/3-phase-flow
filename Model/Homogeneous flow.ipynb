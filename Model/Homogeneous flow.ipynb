{
 "cells": [
  {
   "cell_type": "code",
   "execution_count": 1,
   "metadata": {},
   "outputs": [],
   "source": [
    "import numpy as np\n",
    "from matplotlib import pyplot as plt\n",
    "from trig_fund import *\n",
    "from dambreak import *\n",
    "from syrup_prop import *\n",
    "from matplotlib import animation"
   ]
  },
  {
   "cell_type": "markdown",
   "metadata": {},
   "source": [
    "Janine Birnbaum\n",
    "\n",
    "June 6, 2019\n",
    "\n",
    "Model Herschel-Bulkley fluid flow along inclined surface"
   ]
  },
  {
   "cell_type": "markdown",
   "metadata": {},
   "source": [
    "Flow equation:\n",
    "\n",
    "$ h_t = \\left( \\frac{\\rho g}{K} \\right)^{1/n} \\frac{\\partial}{\\partial x} $$ \\left[ \\frac{n|h_x|^{1/n-1} Y^{1+1/n}}{(n+1)(2n+1)} \\left[(1+2n)h-nY \\right]h_x \\right] $\n",
    "\n",
    "$ Y = h - \\frac{\\tau_y}{\\rho g |h_x|} $\n",
    "\n",
    "Written in dimensionless form: \n",
    "\n",
    "$ h_t = \\frac{\\partial}{\\partial x} \\left[ \\frac{n|h_x|^{1/n-1} Y^{1+1/n}}{(n+1)(2n+1)}[(1+2n)h-nY]h_x \\right] $\n",
    "\n",
    "$ Y = h - \\frac{B}{|h_x|} $\n",
    "\n",
    "where B = $\\frac{\\tau_y L}{\\rho g H^2}$\n",
    "\n",
    "$ x = L x', h = Hh', Y = HY', t = \\frac L H \\left( \\frac{KL}{\\rho g H^2} \\right)^{1/n} t' $\n",
    "\n",
    "(Balmforth et al., 2007)\n",
    "\n",
    "Generalized for Herschel-Bulkley fluid on a slope following derivation from Liu & Mei (1989):\n",
    "\n",
    "$ h_t = \\frac{\\partial}{\\partial x} \\left[ \\left( \\frac{\\rho g}{K} \\right)^{1/n} \\frac{n \\left| \\sin{\\theta} - \\frac{\\partial}{\\partial x} \\left( h \\cos{\\theta} \\right) \\right|^{1/n-1} Y^{1+1/n}}{(n+1)(2n+1)} \\left[(1+2n)h-nY \\right] \\left( \\sin{\\theta} - \\frac{\\partial}{\\partial x} \\left( h \\cos{\\theta} \\right) \\right) \\right] $\n",
    "\n",
    "$ Y = h - \\frac{\\tau_y}{\\rho g |\\sin{\\theta} - \\frac{\\partial}{\\partial x} \\left( h \\cos{\\theta} \\right)|} $\n",
    "\n",
    "For full derivation see included PDF \"Viscoplastic Flow Derivation\".\n"
   ]
  },
  {
   "cell_type": "markdown",
   "metadata": {},
   "source": [
    "Dimensional Analysis for spatially and temporally varying slope, density, consistency, and yield stress (constant n): \n",
    "\n",
    "$h = H \\hat{h}, x = L \\hat{x}, \\theta = \\theta_0 \\hat{\\theta}, \\rho = \\rho_0 \\hat{\\rho}, g = g_0 \\hat{g}, K = K_0 \\hat{K}, h = H \\hat{h}$ \n",
    "\n",
    "For height-dominated flow: \n",
    "\n",
    "$ t = \\frac L H \\left( \\frac{K_0 L}{\\rho_0 g_0 H^2} \\right)^{1/n} $\n",
    "\n",
    "Plug in and drop the hat decoration: \n",
    "\n",
    "$ h_t = \\frac{\\partial}{\\partial x} \\left[ \\left( \\frac{\\rho g}{K} \\right)^{1/n} \\frac{n \\left| \\frac L H \\sin{\\theta} - \\frac{\\partial}{\\partial x} \\left( h \\cos{\\theta} \\right) \\right|^{1/n-1} Y^{1+1/n}}{(n+1)(2n+1)} \\left[(1+2n)h-nY \\right] \\left( \\frac L H \\sin{\\theta} - \\frac{\\partial}{\\partial x} \\left( h \\cos{\\theta} \\right) \\right) \\right] $\n",
    "\n",
    "$ Y = h - \\frac{B \\tau_y}{\\rho g \\left| \\frac L H \\sin{\\theta} - \\frac{\\partial}{\\partial x} \\left( h \\cos{\\theta} \\right) \\right|} $\n",
    "\n",
    "$ B = \\frac{\\tau_{y_0} L}{\\rho_0 g_0 H^2} $"
   ]
  },
  {
   "cell_type": "code",
   "execution_count": 178,
   "metadata": {},
   "outputs": [],
   "source": [
    "def dambreak_RK2(x, L, h0, H, theta, rho, K, tauy, n, g, ts, i):\n",
    "    \"\"\"Solve flow for a Herschel-Bulkley fluid with 2-step Runge-Kutta \n",
    "    in time, centered in space on an inclined surface.\n",
    "    \n",
    "    :Input:\n",
    "     - *x*     (ndarray(m+2)) - Evaluation points in x [m].\n",
    "     - *L*     (float)        - Characteristic scale in x [m].\n",
    "     - *h0*    (ndarray(m+2)) - Initial height at evaluation points in x [m].\n",
    "     - *H*     (float)        - Characteristic scale in z [m].\n",
    "     - *theta* (ndarray(m+2)) - Slope in degrees at evaluation points in x [deg].\n",
    "     - *rho*   (float)        - Fluid density [kg/m^3].\n",
    "     - *K*     (float)        - Fluid consistency [Pa s].\n",
    "     - *tauy*  (float)        - Yield stress [Pa].\n",
    "     - *n*     (float)        - Rheology power law exponent.\n",
    "     - *g*     (float)        - Gravitational constant [m/s^2].\n",
    "     - *ts*    (float)        - Final time for simulation [sec].\n",
    "     - *i*     (int)          - Number of points for discretization in t.\n",
    "     \n",
    "\n",
    "    :Output:\n",
    "     - (ndarray(m+2, i+2)) - Solution of ODE.\n",
    "     - (ndarray(i+2)) - Evaluation times.\n",
    "     - (ndarray(m+2, i+2)) - Yield Surface Y.\n",
    "    \"\"\"\n",
    "\n",
    "    # Dimensional numbers\n",
    "    A = L/H\n",
    "    B = tauy*L/(rho*g*H**2)\n",
    "    T = (L/H)*(K*L/(rho*g*H**2))**(1/n)\n",
    "    tf = ts/T\n",
    "\n",
    "    # Discretize domain \n",
    "    dx = x[1:] - x[:-1]\n",
    "    z = np.linspace(0,H,10)\n",
    "    dt = tf/(i+1)\n",
    "    t = np.linspace(0, tf, i+2)\n",
    "\n",
    "    # Initialize solution\n",
    "    h = np.zeros((i+2,x.size))\n",
    "    Y = np.zeros((i+2,x.size))\n",
    "    u = np.zeros((i+2,x.size-2,10))\n",
    "    \n",
    "    # Initial condition\n",
    "    h[0,:] = h0\n",
    "    \n",
    "    # Solve\n",
    "    for k in np.arange(i+1):\n",
    "        \n",
    "        for j, s in enumerate([0.5, 1]): # Loops through twice for 2-step RK\n",
    "            \n",
    "            hr = (h[k+j,2:] + h[k+j,1:-1])/2 # Approximate h on the left and right to allow non-zero flow\n",
    "            hl = (h[k+j,1:-1] + h[k+j,:-2])/2\n",
    "            hxr = A*sind(theta[2:]) - (h[k+j,2:]*cosd(theta[2:]) - h[k+j,1:-1]*cosd(theta[1:-1]))/dx[1:]\n",
    "            hxl = A*sind(theta[1:-1]) - (h[k+j,1:-1]*cosd(theta[1:-1]) - h[k+j,:-2]*cosd(theta[:-2]))/dx[:-1]\n",
    "            Yr  = hr - B/np.abs(hxr)\n",
    "            Yl  = hl - B/np.abs(hxl)\n",
    "        \n",
    "            # Yield surface\n",
    "            Yr[Yr<0] = 0\n",
    "            Yl[Yl<0] = 0\n",
    "            \n",
    "            # Calculate flux\n",
    "            Qr = n*(np.abs(hxr)**(1/n-1)*(Yr)**(1+1/n))/((n+1)*(2*n+1))*((1+2*n)*hr - n*Yr)*hxr\n",
    "            Ql = n*(np.abs(hxl)**(1/n-1)*(Yl)**(1+1/n))/((n+1)*(2*n+1))*((1+2*n)*hl - n*Yl)*hxl\n",
    "            \n",
    "        \n",
    "            # Eliminate nan for zero slope\n",
    "            Qr[hxr==0] = 0\n",
    "            Ql[hxl==0] = 0\n",
    "    \n",
    "            Y[k,1:-1] = (Yr + Yl)/2\n",
    "        \n",
    "            # Update solution\n",
    "            h[k+1,1:-1] = h[k,1:-1] - s*dt/dx[:-1]*(Qr - Ql)\n",
    "            \n",
    "            # Left boundary condition (no flow)\n",
    "            h[k+1,0] = h[k+1,1]\n",
    "        \n",
    "        # Velocity\n",
    "        h0r = np.rollaxis(np.tile(Yr,(10,1)),0,2) - np.tile(z,(x.size-2,1))\n",
    "        h0r[h0r<0] = 0\n",
    "        h0l = np.rollaxis(np.tile(Yl,(10,1)),0,2) - np.tile(z,(x.size-2,1))\n",
    "        h0l[h0l<0] = 0\n",
    "        ur = -n/(n+1)*((h0r)**(1/n+1)-np.rollaxis(np.tile(Yr,(10,1)),0,2)**(1/n+1))*(g*rho/K)**(1/n)*(np.rollaxis(np.tile(hxr,(10,1)),0,2)**1/n)\n",
    "        ul = -n/(n+1)*((h0l)**(1/n+1)-np.rollaxis(np.tile(Yr,(10,1)),0,2)**(1/n+1))*(g*rho/K)**(1/n)*(np.rollaxis(np.tile(hxl,(10,1)),0,2)**1/n)\n",
    "        u[k,:,:] = (ur + ul)/2\n",
    "        u[k,np.tile(z,(x.size-2,1))>H*np.rollaxis(np.tile(h[k,1:-1],(10,1)),0,2)]\n",
    "    \n",
    "    return h*H, t*T, Y, u"
   ]
  },
  {
   "cell_type": "code",
   "execution_count": 18,
   "metadata": {},
   "outputs": [],
   "source": [
    "def dambreak_u(x, z, h0, theta, rho, K, tauy, n, g, ts, i):\n",
    "    \n",
    "    \"\"\"Solve flow for a Herschel-Bulkley fluid with 2-step Runge-Kutta \n",
    "    in time, centered in space for on an inclined surface.\n",
    "    \n",
    "    :Input:\n",
    "     - *x*     (ndarray(m+2))      - Evaluation points in x [m].\n",
    "     - *z*     (ndarray(n+2))      - Evaluation points in z [n].\n",
    "     - *h0*    (ndarray(m+2))      - Initial height at evaluation points in x [m].\n",
    "     - *theta* (float)             - Slope [deg].\n",
    "     - *rho*   (float)             - Fluid density [kg/m^3].\n",
    "     - *K*     (float)             - Fluid consistency [Pa s].     \n",
    "     - *tauy*  (float)             - Yield stress [Pa].\n",
    "     - *n*     (float)             - Rheology power law exponent.\n",
    "     - *g*     (float)             - Gravitational constant [m/s^2].\n",
    "     - *ts*    (float)             - Final time for simulation [sec].\n",
    "     - *i*     (int)               - Number of points for discretization in t.\n",
    "     \n",
    "\n",
    "    :Output:\n",
    "     - (ndarray(m+2, i+2)) - Solution of ODE.\n",
    "     - (ndarray(i+2)) - Evaluation times.\n",
    "    \"\"\"\n",
    "\n",
    "    # Discretize domain \n",
    "    dx = x[1:] - x[:-1]\n",
    "    dt = ts/(i+1)\n",
    "    t = np.linspace(0, ts, i+2)\n",
    "\n",
    "    # Initialize solution\n",
    "    h = np.zeros((i+2,x.size))    \n",
    "    h[0,:] = h0\n",
    "    Y = np.zeros((i+2,x.size))\n",
    "    u = np.zeros((i+2,x.size-2,z.size))\n",
    "    \n",
    "    # Solve\n",
    "    for k in np.arange(i+1):\n",
    "        \n",
    "        for j, s in enumerate([0.5, 1]):\n",
    "            \n",
    "            hr = (h[k+j,2:] + h[k+j,1:-1])/2\n",
    "            hl = (h[k+j,1:-1] + h[k+j,:-2])/2\n",
    "            hxr = sind(theta) - cosd(theta)*(h[k+j,2:] - h[k+j,1:-1])/dx[1:]\n",
    "            hxl = sind(theta) - cosd(theta)*(h[k+j,1:-1] - h[k+j,:-2])/dx[:-1]\n",
    "            Yr  = hr - tauy/(rho*g*np.abs(hxr))\n",
    "            Yl  = hl - tauy/(rho*g*np.abs(hxl))\n",
    "        \n",
    "            Yr[Yr<0] = 0\n",
    "            Yl[Yl<0] = 0\n",
    "        \n",
    "            Qr = n*((np.abs(hxr))**(1/n-1)*(Yr)**(1+1/n))/((n+1)*(2*n+1))*((1+2*n)*hr - n*Yr)*hxr\n",
    "            Ql = n*((np.abs(hxl))**(1/n-1)*(Yl)**(1+1/n))/((n+1)*(2*n+1))*((1+2*n)*hl - n*Yl)*hxl\n",
    "        \n",
    "            Qr[hxr==0] = 0\n",
    "            Ql[hxl==0] = 0\n",
    "    \n",
    "            h[k+1,1:-1] = h[k,1:-1] - s*dt/dx[:-1]*(rho*g/K)**(1/n)*(Qr - Ql)\n",
    "            \n",
    "            # Boundary conditions\n",
    "            h[k+1,0] = h[k+1,1]\n",
    "        # Velocity\n",
    "        h0r = np.rollaxis(np.tile(Yr,(z.size,1)),0,2) - np.tile(z,(x.size-2,1))\n",
    "        h0r[h0r<0] = 0\n",
    "        h0l = np.rollaxis(np.tile(Yl,(z.size,1)),0,2) - np.tile(z,(x.size-2,1))\n",
    "        h0l[h0l<0] = 0\n",
    "        ur = -n/(n+1)*((h0r)**(1/n+1)-np.rollaxis(np.tile(Yr,(z.size,1)),0,2)**(1/n+1))*(g*rho/K)**(1/n)*(np.rollaxis(np.tile(hxr,(z.size,1)),0,2)**1/n)\n",
    "        ul = -n/(n+1)*((h0l)**(1/n+1)-np.rollaxis(np.tile(Yr,(z.size,1)),0,2)**(1/n+1))*(g*rho/K)**(1/n)*(np.rollaxis(np.tile(hxl,(z.size,1)),0,2)**1/n)\n",
    "        u[k,:,:] = (ur + ul)/2\n",
    "        u[k,np.tile(z,(x.size-2,1))>np.rollaxis(np.tile(h[k,1:-1],(z.size,1)),0,2)] = 0\n",
    "        Y[k,1:-1] = (Yr + Yl)/2\n",
    "    \n",
    "    return h, t, Y, u"
   ]
  },
  {
   "cell_type": "code",
   "execution_count": 22,
   "metadata": {},
   "outputs": [
    {
     "data": {
      "image/png": "[encoded data removed]",
      "text/plain": [
       "<Figure size 1080x360 with 1 Axes>"
      ]
     },
     "metadata": {
      "needs_background": "light"
     },
     "output_type": "display_data"
    },
    {
     "data": {
      "image/png": "[encoded data removed]",
      "text/plain": [
       "<Figure size 432x288 with 2 Axes>"
      ]
     },
     "metadata": {
      "needs_background": "light"
     },
     "output_type": "display_data"
    }
   ],
   "source": [
    "# Simplestproblem\n",
    "\n",
    "# Problem setup\n",
    "H = 0.1 # reservoir height in m\n",
    "L = 0.2  # reservoir length in m\n",
    "K = 50  # consistency in Pa s\n",
    "rho = 1395 # density in kg/m^3\n",
    "g = 9.81   # gravitational acceleration m/s^2\n",
    "tauy = 50 # yield stress in Pa\n",
    "n = 1 # power law exponent\n",
    "\n",
    "# Discretize domain \n",
    "m = 50\n",
    "x = np.linspace(0, 0.8, m+2)\n",
    "dx = x[1] - x[0]\n",
    "z = np.linspace(0,H,40)\n",
    "dz = z[1] - z[0]\n",
    "\n",
    "ts = 30 # time in s\n",
    "i = 100000\n",
    "\n",
    "# Initial condition\n",
    "h0 = np.zeros(m+2)\n",
    "h0[x<=L] = H\n",
    "\n",
    "# Bed topography\n",
    "theta = np.zeros_like(x)\n",
    "\n",
    "# Solve\n",
    "h, t, Y, u = dambreak_u(x, z, h0, 0, rho, K, tauy, n, g, ts, i) # No slope for comparison\n",
    "\n",
    "# Strain rate\n",
    "dudz = (u[:,:,1:] - u[:,:,:-1])/dz\n",
    "\n",
    "# Plot result\n",
    "fig,ax = plt.subplots(figsize=(15,5))\n",
    "ax.plot(x,h[-1,:].transpose(),'r-');\n",
    "ax.set_xlabel('Distance')\n",
    "ax.set_ylabel('Height')\n",
    "ax.set_title('Flow down an flat channel');\n",
    "\n",
    "fig, ax = plt.subplots(nrows=2)\n",
    "a = u[0,:,:].transpose()\n",
    "b = dudz[0,:,:].transpose()\n",
    "im=ax[0].imshow(a,interpolation='none',cmap='bwr',extent=[0,0.8,0,H],vmax=1,vmin=-1)\n",
    "line0, = ax[0].plot([], [],'r', lw=2)\n",
    "line1, = ax[0].plot([], [],'k', lw=2)\n",
    "ax[0].set_xlabel('x (m)')\n",
    "ax[0].set_ylabel('h (m)')\n",
    "ax[0].set_title('Along-flow velocity (m/s)')\n",
    "#cbar = plt.colorbar(im, ax=ax[0])\n",
    "\n",
    "im2=ax[1].imshow(a,interpolation='none',cmap='bwr',extent=[0,0.8,0,H],vmax=10,vmin=-10)\n",
    "line2, = ax[1].plot([], [],'r', lw=2)\n",
    "line3, = ax[1].plot([], [],'k', lw=2)\n",
    "ax[1].set_xlabel('x (m)')\n",
    "ax[1].set_ylabel('h (m)')\n",
    "ax[1].set_title('Strain rate (1/s)')\n",
    "#cbar2 = plt.colorbar(im2, ax=ax[1])\n",
    "\n",
    "# animation function.  This is called sequentially\n",
    "def animate(i):\n",
    "    a=im.get_array()\n",
    "    im.set_array(np.flipud(u[i*100,:,:].transpose()))\n",
    "    line0.set_data(x, Y[i*100,:])\n",
    "    line1.set_data(x, h[i*100])\n",
    "    \n",
    "    b = im2.get_array()\n",
    "    im2.set_array(np.flipud(dudz[i*100,:,:].transpose()))\n",
    "    line2.set_data(x, Y[i*100,:])\n",
    "    line3.set_data(x, h[i*100])\n",
    "    return [im]\n",
    "\n",
    "anim = animation.FuncAnimation(fig, animate,\n",
    "                               frames=500, blit=True)\n",
    "    # Save\n",
    "anim.save('test_velocity.mp4', fps=10, extra_args=['-vcodec', 'libx264'])"
   ]
  },
  {
   "cell_type": "code",
   "execution_count": 37,
   "metadata": {},
   "outputs": [
    {
     "data": {
      "text/plain": [
       "(1, 100)"
      ]
     },
     "execution_count": 37,
     "metadata": {},
     "output_type": "execute_result"
    }
   ],
   "source": [
    "test = np.zeros((1,50000))\n",
    "test[:,::500].shape"
   ]
  },
  {
   "cell_type": "code",
   "execution_count": 23,
   "metadata": {},
   "outputs": [
    {
     "ename": "NameError",
     "evalue": "name 'dambreak_RK2' is not defined",
     "output_type": "error",
     "traceback": [
      "\u001b[1;31m---------------------------------------------------------------------------\u001b[0m",
      "\u001b[1;31mNameError\u001b[0m                                 Traceback (most recent call last)",
      "\u001b[1;32m<ipython-input-23-ee6dbdb4ed2d>\u001b[0m in \u001b[0;36m<module>\u001b[1;34m()\u001b[0m\n\u001b[0;32m     30\u001b[0m \u001b[1;33m\u001b[0m\u001b[0m\n\u001b[0;32m     31\u001b[0m \u001b[1;31m# Solve\u001b[0m\u001b[1;33m\u001b[0m\u001b[1;33m\u001b[0m\u001b[0m\n\u001b[1;32m---> 32\u001b[1;33m \u001b[0mh\u001b[0m\u001b[1;33m,\u001b[0m \u001b[0mt\u001b[0m\u001b[1;33m,\u001b[0m \u001b[0mY\u001b[0m \u001b[1;33m=\u001b[0m \u001b[0mdambreak_RK2\u001b[0m\u001b[1;33m(\u001b[0m\u001b[0mx\u001b[0m\u001b[1;33m,\u001b[0m \u001b[0mL\u001b[0m\u001b[1;33m,\u001b[0m \u001b[0mh0\u001b[0m\u001b[1;33m,\u001b[0m \u001b[0mH\u001b[0m\u001b[1;33m,\u001b[0m \u001b[0mtheta\u001b[0m\u001b[1;33m,\u001b[0m \u001b[0mrho\u001b[0m\u001b[1;33m,\u001b[0m \u001b[0mK\u001b[0m\u001b[1;33m,\u001b[0m \u001b[0mtauy\u001b[0m\u001b[1;33m,\u001b[0m \u001b[0mn\u001b[0m\u001b[1;33m,\u001b[0m \u001b[0mg\u001b[0m\u001b[1;33m,\u001b[0m \u001b[0mts\u001b[0m\u001b[1;33m,\u001b[0m \u001b[0mi\u001b[0m\u001b[1;33m)\u001b[0m \u001b[1;31m# No slope for comparison\u001b[0m\u001b[1;33m\u001b[0m\u001b[0m\n\u001b[0m\u001b[0;32m     33\u001b[0m \u001b[0mh2\u001b[0m\u001b[1;33m,\u001b[0m \u001b[0mt2\u001b[0m\u001b[1;33m,\u001b[0m \u001b[0mY2\u001b[0m \u001b[1;33m=\u001b[0m \u001b[0mdambreak_RK2\u001b[0m\u001b[1;33m(\u001b[0m\u001b[0mx\u001b[0m\u001b[1;33m,\u001b[0m \u001b[0mL\u001b[0m\u001b[1;33m,\u001b[0m \u001b[0mh0\u001b[0m\u001b[1;33m,\u001b[0m \u001b[0mH\u001b[0m\u001b[1;33m,\u001b[0m \u001b[0mnp\u001b[0m\u001b[1;33m.\u001b[0m\u001b[0mzeros_like\u001b[0m\u001b[1;33m(\u001b[0m\u001b[0mtheta\u001b[0m\u001b[1;33m)\u001b[0m\u001b[1;33m,\u001b[0m \u001b[0mrho\u001b[0m\u001b[1;33m,\u001b[0m \u001b[0mK\u001b[0m\u001b[1;33m,\u001b[0m \u001b[0mtauy\u001b[0m\u001b[1;33m,\u001b[0m \u001b[0mn\u001b[0m\u001b[1;33m,\u001b[0m \u001b[0mg\u001b[0m\u001b[1;33m,\u001b[0m \u001b[0mts\u001b[0m\u001b[1;33m,\u001b[0m \u001b[0mi\u001b[0m\u001b[1;33m)\u001b[0m\u001b[1;33m\u001b[0m\u001b[0m\n\u001b[0;32m     34\u001b[0m \u001b[1;33m\u001b[0m\u001b[0m\n",
      "\u001b[1;31mNameError\u001b[0m: name 'dambreak_RK2' is not defined"
     ]
    }
   ],
   "source": [
    "# Example calculation with spatially varying slope\n",
    "\n",
    "# Problem setup\n",
    "H = 1 # reservoir height in m\n",
    "L = 1  # reservoir length in m\n",
    "K = 1  # consistency in Pa s\n",
    "rho = 1 # density in kg/m^3\n",
    "g = 1   # gravitational acceleration m/s^2\n",
    "tauy = 0.1 # yield stress in Pa\n",
    "n = 1.5 # power law exponent\n",
    "\n",
    "# Discretize domain \n",
    "m = 100\n",
    "x = np.linspace(0, 4, m+2)\n",
    "dx = x[1] - x[0]\n",
    "\n",
    "ts = 50 # time in s\n",
    "i = 50000\n",
    "\n",
    "# Initial condition\n",
    "h0 = np.zeros(m+2)\n",
    "h0[x<=L] = 1\n",
    "\n",
    "# Bed topography\n",
    "theta = np.zeros_like(x)\n",
    "theta[x>=1.1] = 10\n",
    "x_trans = np.cumsum(cosd(theta)*dx)\n",
    "z0 = np.cumsum(sind(-theta)*dx)\n",
    "z0 -= np.min(z0)\n",
    "\n",
    "# Solve\n",
    "h, t, Y = dambreak_RK2(x, L, h0, H, theta, rho, K, tauy, n, g, ts, i) # No slope for comparison\n",
    "h2, t2, Y2 = dambreak_RK2(x, L, h0, H, np.zeros_like(theta), rho, K, tauy, n, g, ts, i)\n",
    "\n",
    "# Plot result\n",
    "fig,ax = plt.subplots(figsize=(15,5))\n",
    "for k in 5000*np.arange(10):\n",
    "    ax.plot(x_trans,h[k,:].transpose()*cosd(theta) + z0,'k-');\n",
    "ax.plot(x_trans,h[-1,:].transpose()*cosd(theta) + z0,'k-',label='Inclined');\n",
    "ax.plot(x,h2[-1,:].transpose(),'r-',label='Flat');\n",
    "ax.plot(x_trans,z0,'b-',label='Bed');\n",
    "ax.set_xlabel('Distance')\n",
    "ax.set_ylabel('Height')\n",
    "ax.set_title('Flow down an incline');\n",
    "ax.legend();"
   ]
  },
  {
   "cell_type": "code",
   "execution_count": 6,
   "metadata": {},
   "outputs": [
    {
     "name": "stderr",
     "output_type": "stream",
     "text": [
      "C:\\Users\\Janine\\Anaconda3\\envs\\three-phase-flow\\lib\\site-packages\\ipykernel_launcher.py:50: RuntimeWarning: divide by zero encountered in true_divide\n",
      "C:\\Users\\Janine\\Anaconda3\\envs\\three-phase-flow\\lib\\site-packages\\ipykernel_launcher.py:51: RuntimeWarning: divide by zero encountered in true_divide\n",
      "C:\\Users\\Janine\\Anaconda3\\envs\\three-phase-flow\\lib\\site-packages\\ipykernel_launcher.py:50: RuntimeWarning: invalid value encountered in true_divide\n",
      "C:\\Users\\Janine\\Anaconda3\\envs\\three-phase-flow\\lib\\site-packages\\ipykernel_launcher.py:51: RuntimeWarning: invalid value encountered in true_divide\n",
      "C:\\Users\\Janine\\Anaconda3\\envs\\three-phase-flow\\lib\\site-packages\\ipykernel_launcher.py:54: RuntimeWarning: invalid value encountered in less\n",
      "C:\\Users\\Janine\\Anaconda3\\envs\\three-phase-flow\\lib\\site-packages\\ipykernel_launcher.py:55: RuntimeWarning: invalid value encountered in less\n",
      "C:\\Users\\Janine\\Anaconda3\\envs\\three-phase-flow\\lib\\site-packages\\ipykernel_launcher.py:61: RuntimeWarning: overflow encountered in multiply\n",
      "C:\\Users\\Janine\\Anaconda3\\envs\\three-phase-flow\\lib\\site-packages\\ipykernel_launcher.py:62: RuntimeWarning: overflow encountered in multiply\n",
      "C:\\Users\\Janine\\Anaconda3\\envs\\three-phase-flow\\lib\\site-packages\\ipykernel_launcher.py:46: RuntimeWarning: invalid value encountered in add\n",
      "C:\\Users\\Janine\\Anaconda3\\envs\\three-phase-flow\\lib\\site-packages\\ipykernel_launcher.py:47: RuntimeWarning: invalid value encountered in add\n",
      "C:\\Users\\Janine\\Anaconda3\\envs\\three-phase-flow\\lib\\site-packages\\ipykernel_launcher.py:61: RuntimeWarning: overflow encountered in power\n",
      "C:\\Users\\Janine\\Anaconda3\\envs\\three-phase-flow\\lib\\site-packages\\ipykernel_launcher.py:61: RuntimeWarning: invalid value encountered in multiply\n",
      "C:\\Users\\Janine\\Anaconda3\\envs\\three-phase-flow\\lib\\site-packages\\ipykernel_launcher.py:61: RuntimeWarning: invalid value encountered in subtract\n",
      "C:\\Users\\Janine\\Anaconda3\\envs\\three-phase-flow\\lib\\site-packages\\ipykernel_launcher.py:62: RuntimeWarning: overflow encountered in power\n",
      "C:\\Users\\Janine\\Anaconda3\\envs\\three-phase-flow\\lib\\site-packages\\ipykernel_launcher.py:62: RuntimeWarning: invalid value encountered in multiply\n",
      "C:\\Users\\Janine\\Anaconda3\\envs\\three-phase-flow\\lib\\site-packages\\ipykernel_launcher.py:62: RuntimeWarning: invalid value encountered in subtract\n",
      "C:\\Users\\Janine\\Anaconda3\\envs\\three-phase-flow\\lib\\site-packages\\ipykernel_launcher.py:68: RuntimeWarning: invalid value encountered in subtract\n"
     ]
    },
    {
     "data": {
      "image/png": "[encoded data removed]",
      "text/plain": [
       "<Figure size 1080x360 with 1 Axes>"
      ]
     },
     "metadata": {
      "needs_background": "light"
     },
     "output_type": "display_data"
    }
   ],
   "source": [
    "# Problem setup\n",
    "H = 1 # reservoir height in m\n",
    "L = 1  # reservoir length in m\n",
    "\n",
    "g = 10   # gravitational acceleration m/s^2\n",
    "\n",
    "# Discretize domain \n",
    "m = 100\n",
    "x = np.linspace(0, 4*L, m+2)\n",
    "dx = x[1] - x[0]\n",
    "\n",
    "ts = 10 # time in s\n",
    "i = 100000\n",
    "\n",
    "theta = 0*np.ones(m+2)\n",
    "\n",
    "# Fluid propeties\n",
    "n = 0.5*np.ones((i+2,m+2)) # power law exponent\n",
    "K = np.ones((i+2,m+2))  # consistency in Pas\n",
    "rho = np.ones((i+2,m+2)) # density in kg/m^3\n",
    "tauy = 0*np.ones((i+2,m+2)) # yield stress in Pa\n",
    "tauy[:30000,:] = 100\n",
    "\n",
    "# Initial condition\n",
    "h0 = np.zeros(m+2)\n",
    "h0[x<=L] = H\n",
    "\n",
    "# Rotate coordinates for plotting\n",
    "x_trans = np.cumsum(cosd(theta)*dx)\n",
    "z0 = np.cumsum(sind(-theta)*dx)\n",
    "z0 -= np.min(z0)\n",
    "\n",
    "# Solve\n",
    "h, t, Y = damBreak(x, h0, theta, rho, K, tauy, n, g, ts, i)\n",
    "h2, t2, Y2 = damBreak(x, h0, theta, rho, K, np.zeros((i+2,m+2)), n, g, ts, i)\n",
    "\n",
    "# Plot result\n",
    "fig,ax = plt.subplots(figsize=(15,5))\n",
    "for k in 5000*np.arange(10): # Plot 10 snapshots\n",
    "    ax.plot(x_trans,h[k,:].transpose()*cosd(theta) + z0,'k-');\n",
    "    ax.plot(x_trans,h2[k,:].transpose()*cosd(theta) + z0,'r-');\n",
    "ax.plot(x_trans,h[-1,:].transpose()*cosd(theta) + z0,'k-',label='Onset of yield strength'); # Plot final state\n",
    "ax.plot(x_trans,h2[-1,:].transpose()*cosd(theta) + z0,'r-',label='No yield strength');\n",
    "ax.set_xlabel('Distance')\n",
    "ax.set_ylabel('Height')\n",
    "ax.set_title('Onset of yield strength after 6 sec');\n",
    "ax.legend();"
   ]
  },
  {
   "cell_type": "code",
   "execution_count": 2,
   "metadata": {},
   "outputs": [
    {
     "data": {
      "text/plain": [
       "Text(0.5, 1.0, 'Temperature dependence of corn syrup viscosity')"
      ]
     },
     "execution_count": 2,
     "metadata": {},
     "output_type": "execute_result"
    },
    {
     "data": {
      "image/png": "[encoded data removed]",
      "text/plain": [
       "<Figure size 576x360 with 1 Axes>"
      ]
     },
     "metadata": {
      "needs_background": "light"
     },
     "output_type": "display_data"
    }
   ],
   "source": [
    "# Plot viscosity data and fit\n",
    "\n",
    "T_fit = np.linspace(23.5, 46, 50)\n",
    "Visc_fit = Visc(T_fit)\n",
    "T_dat = [23.5, 26, 26.5, 30, 36, 40, 46]\n",
    "T_err = [0.5, 1,1 , 3, 3, 3, 3]\n",
    "Visc_dat = [6.588, 5.979, 5.592, 3.606, 2.204, 2.255, 1.303]\n",
    "Visc_stdev = [0.032, 0.0064, 0.0064, 0.006, 0.0269, 0.112, 0.0386]\n",
    "\n",
    "fig,ax = plt.subplots(figsize=(8,5))\n",
    "ax.plot(T_fit,Visc_fit,'k-')\n",
    "ax.errorbar(T_dat, Visc_dat, xerr=T_err, yerr=Visc_stdev,\n",
    "           linestyle='none', fmt='ro')\n",
    "ax.set_xlabel(r'Temperature [$^\\circ$C]')\n",
    "ax.set_ylabel('Viscosity [Pa s]')\n",
    "ax.set_title('Temperature dependence of corn syrup viscosity')"
   ]
  },
  {
   "cell_type": "code",
   "execution_count": 28,
   "metadata": {},
   "outputs": [
    {
     "data": {
      "text/plain": [
       "6501.978939808803"
      ]
     },
     "execution_count": 28,
     "metadata": {},
     "output_type": "execute_result"
    }
   ],
   "source": [
    "7.569\n",
    "Visc(22.815)\n",
    "10**(.1426*np.exp(0.0429*76.6))"
   ]
  },
  {
   "cell_type": "code",
   "execution_count": 11,
   "metadata": {},
   "outputs": [
    {
     "data": {
      "text/plain": [
       "Text(0.5, 1.0, 'Temperature dependence of corn syrup viscosity')"
      ]
     },
     "execution_count": 11,
     "metadata": {},
     "output_type": "execute_result"
    },
    {
     "data": {
      "image/png": "[encoded data removed]",
      "text/plain": [
       "<Figure size 576x360 with 1 Axes>"
      ]
     },
     "metadata": {
      "needs_background": "light"
     },
     "output_type": "display_data"
    }
   ],
   "source": [
    "# Plot density data and fit\n",
    "T_fit = np.linspace(23.5, 46, 50)\n",
    "Density_fit = Density(T_fit)\n",
    "\n",
    "fig,ax = plt.subplots(figsize=(8,5))\n",
    "ax.plot(T_fit,Density_fit,'k-')\n",
    "ax.set_xlabel(r'Temperature [$^\\circ$C]')\n",
    "ax.set_ylabel('Density [$Kg/m^3$]')\n",
    "ax.set_title('Temperature dependence of corn syrup density')"
   ]
  },
  {
   "cell_type": "code",
   "execution_count": null,
   "metadata": {
    "scrolled": true
   },
   "outputs": [
    {
     "name": "stderr",
     "output_type": "stream",
     "text": [
      "C:\\Users\\Janine\\Anaconda3\\envs\\three-phase-flow\\lib\\site-packages\\ipykernel_launcher.py:60: RuntimeWarning: invalid value encountered in true_divide\n",
      "C:\\Users\\Janine\\Anaconda3\\envs\\three-phase-flow\\lib\\site-packages\\ipykernel_launcher.py:61: RuntimeWarning: invalid value encountered in true_divide\n",
      "C:\\Users\\Janine\\Anaconda3\\envs\\three-phase-flow\\lib\\site-packages\\ipykernel_launcher.py:63: RuntimeWarning: invalid value encountered in less\n",
      "C:\\Users\\Janine\\Anaconda3\\envs\\three-phase-flow\\lib\\site-packages\\ipykernel_launcher.py:64: RuntimeWarning: invalid value encountered in less\n",
      "C:\\Users\\Janine\\Anaconda3\\envs\\three-phase-flow\\lib\\site-packages\\ipykernel_launcher.py:81: RuntimeWarning: divide by zero encountered in true_divide\n",
      "C:\\Users\\Janine\\Anaconda3\\envs\\three-phase-flow\\lib\\site-packages\\ipykernel_launcher.py:97: RuntimeWarning: invalid value encountered in true_divide\n",
      "C:\\Users\\Janine\\Anaconda3\\envs\\three-phase-flow\\lib\\site-packages\\ipykernel_launcher.py:81: RuntimeWarning: overflow encountered in true_divide\n",
      "C:\\Users\\Janine\\Anaconda3\\envs\\three-phase-flow\\lib\\site-packages\\ipykernel_launcher.py:97: RuntimeWarning: divide by zero encountered in true_divide\n"
     ]
    }
   ],
   "source": [
    "# Problem setup\n",
    "H = 0.06 # reservoir height in m\n",
    "L = 0.20  # reservoir length in m\n",
    "\n",
    "g = 10   # gravitational acceleration m/s^2\n",
    "\n",
    "# Discretize domain \n",
    "m = 100\n",
    "x = np.linspace(0, 4*L, m+2)\n",
    "dx = x[1] - x[0]\n",
    "\n",
    "ts = 1 # time in s\n",
    "i = 50000\n",
    "\n",
    "theta = np.zeros_like(x)\n",
    "\n",
    "# Fluid properties\n",
    "k_T = 0.353 # thermal conductivity\n",
    "cp = 2278   # specific heat capacity\n",
    "\n",
    "n = np.ones((i+2,m+2)) # power law exponent\n",
    "K = Visc(40)*np.ones((i+2,m+2))  # consistency in Pas\n",
    "rho = 1395*np.ones((i+2,m+2)) # density in kg/m^3\n",
    "tauy = 0*np.ones((i+2,m+2)) # yield stress in Pa\n",
    "\n",
    "T_atm = 23.5 # Air temperature in deg C\n",
    "h_atm = 10 # Air convective heat transfer coefficient\n",
    "e = 0.95 # emissivity\n",
    "\n",
    "# Initial condition\n",
    "h0 = np.zeros(m+2)\n",
    "h0[x<=L] = H\n",
    "T0 = T_atm*np.ones(m+2)\n",
    "T0[x<=L] = 40\n",
    "T_lft = 40*np.ones(i+2)\n",
    "\n",
    "# Rotate coordinates for plotting\n",
    "x_trans = np.cumsum(cosd(theta)*dx)\n",
    "z0 = np.cumsum(sind(-theta)*dx)\n",
    "z0 -= np.min(z0)\n",
    "\n",
    "# Solve\n",
    "h, t, T = dambreak_T(x, h0, T0, T_lft, theta, rho, K, tauy, n, g, k_T, cp, T_atm, h_atm, e, ts, i)\n",
    "\n",
    "# Plot result\n",
    "fig,ax = plt.subplots(figsize=(15,5))\n",
    "ax2 = ax.twinx()\n",
    "for k in 1000*np.arange(10):\n",
    "    ax.plot(x_trans,h[k,:].transpose()*cosd(theta) + z0,'k-');\n",
    "    ax2.plot(x_trans,T[k,:].transpose()*cosd(theta) + z0,'r-');\n",
    "ax.plot(x_trans,h[-1,:].transpose()*cosd(theta) + z0,'k-',label='Height');\n",
    "ax2.plot(x_trans,T[-1,:].transpose()*cosd(theta) + z0,'r-',label='Temperature');\n",
    "ax.plot(x_trans,z0,'b-');\n",
    "ax.set_xlabel('Distance')\n",
    "ax.set_ylabel('Height')\n",
    "ax2.set_ylabel('Temperature')\n",
    "ax2.yaxis.label.set_color('red')\n",
    "ax2.tick_params(axis='y', colors='red')\n",
    "ax.set_title('Temperature (Advection-Diffusion)');"
   ]
  },
  {
   "cell_type": "code",
   "execution_count": null,
   "metadata": {
    "scrolled": false
   },
   "outputs": [],
   "source": [
    "# Problem setup\n",
    "H = 0.06 # reservoir height in m\n",
    "L = 0.20  # reservoir length in m\n",
    "\n",
    "g = 10   # gravitational acceleration m/s^2\n",
    "\n",
    "# Discretize domain \n",
    "m = 100\n",
    "x = np.linspace(0, 4*L, m+2)\n",
    "dx = x[1] - x[0]\n",
    "\n",
    "ts = 1 # time in s\n",
    "i = 50000\n",
    "\n",
    "theta = 0*np.ones(m+2)\n",
    "\n",
    "# Fluid properties\n",
    "k_T = 0.353 # thermal conductivity\n",
    "cp = 2278   # specific heat capacity\n",
    "\n",
    "n = np.ones((i+2,m+2)) # power law exponent\n",
    "K = 2*np.ones((i+2,m+2))  # consistency in Pas\n",
    "rho = 1395*np.ones((i+2,m+2)) # density in kg/m^3\n",
    "tauy = 0*np.ones((i+2,m+2)) # yield stress in Pa\n",
    "\n",
    "T_atm = 23.5 # Air temperature in deg C\n",
    "h_atm = 10 # Air convective heat transfer coefficient\n",
    "e = 0.95\n",
    "\n",
    "# Initial condition\n",
    "h0 = np.zeros(m+2)\n",
    "h0[x<=L] = H\n",
    "T0 = T_atm*np.ones(m+2)\n",
    "T0[x<=L] = 40\n",
    "T_lft = 40*np.ones(i+2)\n",
    "\n",
    "# Rotate coordinates for plotting\n",
    "x_trans = np.cumsum(cosd(theta)*dx)\n",
    "z0 = np.cumsum(sind(-theta)*dx)\n",
    "z0 -= np.min(z0)\n",
    "\n",
    "# Solve\n",
    "h_K, t, T_K = dambreak_T_K(x, h0, T0, T_lft, theta, tauy, n, g, k_T, cp, T_atm, h_atm, e, ts, i)\n",
    "\n",
    "# Plot result\n",
    "fig,ax = plt.subplots(figsize=(15,5))\n",
    "ax2 = ax.twinx()\n",
    "for k in 1000*np.arange(10):\n",
    "    ax.plot(x_trans,h[k,:].transpose()*cosd(theta) + z0,'k-');\n",
    "    ax2.plot(x_trans,T[k,:].transpose()*cosd(theta) + z0,'r-');\n",
    "ax.plot(x_trans,h[-1,:].transpose()*cosd(theta) + z0,'k-',label='Height');\n",
    "ax2.plot(x_trans,T[-1,:].transpose()*cosd(theta) + z0,'r-',label='Temperature');\n",
    "ax.plot(x_trans,z0,'b-');\n",
    "ax.set_xlabel('Distance')\n",
    "ax.set_ylabel('Height')\n",
    "ax2.set_ylabel('Temperature')\n",
    "ax2.yaxis.label.set_color('red')\n",
    "ax2.tick_params(axis='y', colors='red')\n",
    "ax.set_title('Temperature (Advection-Diffusion)');\n",
    "ax.legend();"
   ]
  },
  {
   "cell_type": "code",
   "execution_count": 3,
   "metadata": {},
   "outputs": [
    {
     "ename": "NameError",
     "evalue": "name 'Visc' is not defined",
     "output_type": "error",
     "traceback": [
      "\u001b[1;31m---------------------------------------------------------------------------\u001b[0m",
      "\u001b[1;31mNameError\u001b[0m                                 Traceback (most recent call last)",
      "\u001b[1;32m<ipython-input-3-0d707ac124be>\u001b[0m in \u001b[0;36m<module>\u001b[1;34m()\u001b[0m\n\u001b[0;32m      2\u001b[0m \u001b[0mH\u001b[0m \u001b[1;33m=\u001b[0m \u001b[1;36m0.06\u001b[0m \u001b[1;31m# reservoir height in m\u001b[0m\u001b[1;33m\u001b[0m\u001b[0m\n\u001b[0;32m      3\u001b[0m \u001b[0mL\u001b[0m \u001b[1;33m=\u001b[0m \u001b[1;36m0.2\u001b[0m  \u001b[1;31m# reservoir length in m\u001b[0m\u001b[1;33m\u001b[0m\u001b[0m\n\u001b[1;32m----> 4\u001b[1;33m \u001b[0mK\u001b[0m \u001b[1;33m=\u001b[0m \u001b[0mVisc\u001b[0m\u001b[1;33m(\u001b[0m\u001b[1;36m23.5\u001b[0m\u001b[1;33m)\u001b[0m  \u001b[1;31m# consistency in Pa s\u001b[0m\u001b[1;33m\u001b[0m\u001b[0m\n\u001b[0m\u001b[0;32m      5\u001b[0m \u001b[0mrho\u001b[0m \u001b[1;33m=\u001b[0m \u001b[0mDensity\u001b[0m\u001b[1;33m(\u001b[0m\u001b[1;36m23.5\u001b[0m\u001b[1;33m)\u001b[0m \u001b[1;31m# density in kg/m^3\u001b[0m\u001b[1;33m\u001b[0m\u001b[0m\n\u001b[0;32m      6\u001b[0m \u001b[0mg\u001b[0m \u001b[1;33m=\u001b[0m \u001b[1;36m9.81\u001b[0m  \u001b[1;31m# gravitational acceleration m/s^2\u001b[0m\u001b[1;33m\u001b[0m\u001b[0m\n",
      "\u001b[1;31mNameError\u001b[0m: name 'Visc' is not defined"
     ]
    }
   ],
   "source": [
    "# Problem setup\n",
    "H = 0.06 # reservoir height in m\n",
    "L = 0.2  # reservoir length in m\n",
    "K = Visc(23.5)  # consistency in Pa s\n",
    "rho = Density(23.5) # density in kg/m^3\n",
    "g = 9.81  # gravitational acceleration m/s^2\n",
    "tauy = 0 # yield stress in Pa\n",
    "n = 1 # power law exponent\n",
    "\n",
    "# Discretize domain \n",
    "m = 50\n",
    "x = np.linspace(0, 2, m+2)\n",
    "dx = x[1] - x[0]\n",
    "\n",
    "ts = 10 # time in s\n",
    "i = 100000\n",
    "\n",
    "# Initial condition\n",
    "h0 = np.zeros(m+2)\n",
    "h0[x<=L] = 1\n",
    "\n",
    "# Bed topography\n",
    "theta = np.zeros_like(x)\n",
    "x_trans = np.cumsum(cosd(theta)*dx)\n",
    "z0 = np.cumsum(sind(-theta)*dx)\n",
    "z0 -= np.min(z0)\n",
    "\n",
    "# Solve\n",
    "h, t, Y = dambreak_RK2(x, L, h0, H, theta, rho, K, tauy, n, g, ts, i)\n",
    "\n",
    "# Plot result\n",
    "fig,ax = plt.subplots(figsize=(15,5))\n",
    "for k in 5000*np.arange(10):\n",
    "    ax.plot(x_trans,h[k,:].transpose()*cosd(theta) + z0,'k-');\n",
    "ax.plot(x_trans,h[-1,:].transpose()*cosd(theta) + z0,'k-');\n",
    "ax.set_xlabel('Distance')\n",
    "ax.set_ylabel('Height')\n",
    "ax.set_title('Runout');\n",
    "ax.legend();\n",
    "\n",
    "# Find front progression\n",
    "x_pos = np.zeros((i+2))\n",
    "for j in np.arange(i+2):\n",
    "    x_pos[j] = max(np.max(x[h[j,:]>0]),0.2) - 0.2\n",
    "    \n",
    "fig,ax = plt.subplots(figsize=(15,5))\n",
    "ax.loglog(t,x_pos)\n",
    "ax.set_xlabel('Time [s]')\n",
    "ax.set_ylabel('Distance [m]')\n",
    "\n",
    "# Find expected n graphically\n",
    "c = ['r','b','g']\n",
    "\n",
    "for  j,n in enumerate(np.arange(1,4)):\n",
    "    color = c[j]\n",
    "    y1 = x_pos[1]/t[1]**(n/(n+1))\n",
    "    y2 = x_pos[-40000]/t[-40000]**(n/(2*n+3))\n",
    "    ax.loglog(t[1:15], y1 * t[1:15]**(n/(n+1)),Color=color)\n",
    "    ax.loglog(t[-40000:], y2 * t[-40000:]**(n/(2*n+3)),Color=color)"
   ]
  },
  {
   "cell_type": "code",
   "execution_count": 38,
   "metadata": {},
   "outputs": [
    {
     "data": {
      "text/plain": [
       "1"
      ]
     },
     "execution_count": 38,
     "metadata": {},
     "output_type": "execute_result"
    }
   ],
   "source": []
  },
  {
   "cell_type": "code",
   "execution_count": null,
   "metadata": {},
   "outputs": [],
   "source": []
  }
 ],
 "metadata": {
  "kernelspec": {
   "display_name": "Python 3",
   "language": "python",
   "name": "python3"
  },
  "language_info": {
   "codemirror_mode": {
    "name": "ipython",
    "version": 3
   },
   "file_extension": ".py",
   "mimetype": "text/x-python",
   "name": "python",
   "nbconvert_exporter": "python",
   "pygments_lexer": "ipython3",
   "version": "3.5.6"
  }
 },
 "nbformat": 4,
 "nbformat_minor": 2
}

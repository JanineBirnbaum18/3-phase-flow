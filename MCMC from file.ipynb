{
 "cells": [
  {
   "cell_type": "markdown",
   "metadata": {},
   "source": [
    "## MCMC from file\n",
    "\n",
    "Load hdf5 file from Data Fitting.ipynb that includes experiment meta data and time vs position data for MCMC analysis."
   ]
  },
  {
   "cell_type": "code",
   "execution_count": 1,
   "metadata": {},
   "outputs": [],
   "source": [
    "# import packages\n",
    "from __future__ import print_function\n",
    "import numpy as np\n",
    "from matplotlib import pyplot as plt\n",
    "%matplotlib inline\n",
    "import cv2\n",
    "import scipy.io\n",
    "import scipy.optimize as op\n",
    "import pandas as pd\n",
    "import sys\n",
    "sys.path.insert(0,\"C:/Users/Janine/.local/share/emcee-master\")\n",
    "import emcee as mc\n",
    "import corner\n",
    "import tqdm\n",
    "import warnings\n",
    "\n",
    "from trig_fund import *\n",
    "from dambreak import dambreak\n",
    "from syrup_prop import Visc\n",
    "\n",
    "# import packages for google drive\n",
    "import io as IO\n",
    "import pickle\n",
    "import os\n",
    "import os.path\n",
    "from googleapiclient.discovery import build\n",
    "from googleapiclient.http import MediaIoBaseDownload\n",
    "from googleapiclient.http import MediaFileUpload\n",
    "from google_auth_oauthlib.flow import InstalledAppFlow\n",
    "from google.auth.transport.requests import Request\n",
    "from google.oauth2 import service_account\n",
    "\n",
    "# set default plotting parameters\n",
    "plt.rc('font', size=22) #set default font size to 22 (from 10)\n",
    "plt.rcParams['lines.linewidth'] = 4.0 #set default line width to 2.0 (from 1.0)\n",
    "\n",
    "# filter warnings regularly ecountered in the model\n",
    "warnings.filterwarnings(\"ignore\", message=\"divide by zero encountered in true_divide\")\n",
    "warnings.filterwarnings(\"ignore\", message=\"divide by zero encountered in power\")\n",
    "warnings.filterwarnings(\"ignore\", message=\"invalid value encountered in multiply\")\n",
    "warnings.filterwarnings(\"ignore\", message=\"invalid value encountered in true_divide\")\n",
    "warnings.filterwarnings(\"ignore\", message=\"invalid value encountered in less\")\n",
    "warnings.filterwarnings(\"ignore\", message=\"overflow encountered in true_divide\")"
   ]
  },
  {
   "cell_type": "markdown",
   "metadata": {},
   "source": [
    "## Flow of a Herschel-Bulkley fluid on an inclined plane following derivation from Liu & Mei (1989), Balmforth et al. (2007):\n",
    "\n",
    "$ \\frac{\\partial h}{\\partial t} = -\\left( \\frac{\\rho g}{K} \\right)^{1/n} \\frac{\\partial}{\\partial x} \\left[ \\frac{n \\left| \\sin{\\theta} - \\cos{\\theta} \\frac{\\partial h}{\\partial x} \\right|^{1/n-1} Y^{1+1/n}}{(n+1)(2n+1)} \\left[(1+2n)h-nY \\right] \\left( \\sin{\\theta} -  \\cos{\\theta} \\frac{\\partial h}{\\partial x} \\right) \\right] $\n",
    "\n",
    "$ Y = h - \\frac{\\tau_y}{\\rho g |\\sin{\\theta} -\\cos{\\theta} \\frac{\\partial h}{\\partial x}|} $\n",
    "\n",
    "For full derivation see included PDF \"Viscoplastic Flow Derivation\"."
   ]
  },
  {
   "cell_type": "code",
   "execution_count": 2,
   "metadata": {},
   "outputs": [
    {
     "name": "stdout",
     "output_type": "stream",
     "text": [
      "Download 100%.\n",
      "Saving local copy\n",
      "Done! Loaded MVI_0710.h5\n"
     ]
    }
   ],
   "source": [
    "# import from google drive\n",
    "\n",
    "SCOPES = ['https://www.googleapis.com/auth/drive']\n",
    "\n",
    "\"\"\"Shows basic usage of the Drive v3 API.\n",
    "Prints the names and ids of the first 10 files the user has access to.\n",
    "\"\"\"\n",
    "creds = None\n",
    "# The file token.pickle stores the user's access and refresh tokens, and is\n",
    "# created automatically when the authorization flow completes for the first\n",
    "# time.\n",
    "if os.path.exists('token_JB.pickle'):\n",
    "    with open('token_JB.pickle', 'rb') as token:\n",
    "        creds = pickle.load(token)\n",
    "# If there are no (valid) credentials available, let the user log in.\n",
    "if not creds or not creds.valid:\n",
    "    if creds and creds.expired and creds.refresh_token:\n",
    "        creds.refresh(Request())\n",
    "    else:\n",
    "        flow = InstalledAppFlow.from_client_secrets_file(\n",
    "            'client_secret.json', SCOPES)\n",
    "        creds = flow.run_local_server(port=0)\n",
    "    # Save the credentials for the next run\n",
    "    with open('token_JB.pickle', 'wb') as token:\n",
    "        pickle.dump(creds, token)\n",
    "        \n",
    "service = build('drive', 'v3', credentials=creds)\n",
    "\n",
    "# Call the Drive v3 API\n",
    "results = service.files().list(q = \"name contains 'MVI_0710.h5'\", # change just this line to the h5 filename\n",
    "    pageSize=5, fields=\"nextPageToken, files(id, name)\").execute()\n",
    "items = results.get('files', [])\n",
    "\n",
    "if not items:\n",
    "    print('No files found.')\n",
    "\n",
    "fileid = items[0]['id']\n",
    "filename =  items[0]['name']\n",
    "filepath = os.getcwd()\n",
    "request = service.files().get_media(fileId=fileid)\n",
    "fh = IO.BytesIO()\n",
    "downloader = MediaIoBaseDownload(fh, request)\n",
    "done = False\n",
    "while done is False:\n",
    "    status, done = downloader.next_chunk()\n",
    "    print(\"Download %d%%.\" % int(status.progress() * 100))\n",
    "\n",
    "print('Saving local copy')\n",
    "with IO.open(filepath + '/' + filename, 'wb') as f:\n",
    "    fh.seek(0)\n",
    "    f.write(fh.read())\n",
    "print('Done! Loaded ' + filename)"
   ]
  },
  {
   "cell_type": "code",
   "execution_count": 4,
   "metadata": {},
   "outputs": [
    {
     "name": "stdout",
     "output_type": "stream",
     "text": [
      "      H    K_fluid    L Particle  Phi_gas  Phi_solid    Rho  Slope  Temp  \\\n",
      "0  0.07  12.141238  0.2       No    0.624          0  0.517      0  18.8   \n",
      "\n",
      "      Title  \n",
      "0  MVI_0710  \n",
      "       Time     X_pos\n",
      "0  0.005000  0.006207\n",
      "1  0.038367  0.006207\n",
      "2  0.071733  0.006552\n",
      "3  0.105100  0.006897\n",
      "4  0.138467  0.006552\n"
     ]
    },
    {
     "data": {
      "image/png": "[encoded data removed]",
      "text/plain": [
       "<Figure size 504x360 with 1 Axes>"
      ]
     },
     "metadata": {
      "needs_background": "light"
     },
     "output_type": "display_data"
    }
   ],
   "source": [
    "meta = pd.read_hdf(filename, key='meta')\n",
    "print(meta)\n",
    "H = meta.H[0]\n",
    "L = meta.L[0]\n",
    "K_fluid = meta.K_fluid[0]\n",
    "rho = meta.Rho[0]*1000\n",
    "theta = meta.Slope[0]\n",
    "T = meta.Temp[0]\n",
    "phi_gas = meta.Phi_gas[0]\n",
    "phi_solid = meta.Phi_solid[0]\n",
    "title_str = meta.Title[0]\n",
    "\n",
    "dat = pd.read_hdf(filename, key='df')\n",
    "print(dat.head())\n",
    "\n",
    "t0 = 0 # Time of dam release [sec]\n",
    "tloc = int(t0/(dat.Time[1] - dat.Time[0]))\n",
    "t_pos = dat.Time.iloc[tloc:] - dat.Time.iloc[tloc]\n",
    "x_pos = dat.X_pos.iloc[tloc:]\n",
    "\n",
    "# plot scaled front advance\n",
    "fig,ax = plt.subplots(figsize=(7,5))\n",
    "ax.plot(t_pos, x_pos*100)\n",
    "ax.set_xlabel('Time (sec)')\n",
    "ax.set_ylabel('Distance (cm)')\n",
    "\n",
    "textstr = '\\n'.join((\n",
    "    r'$\\phi_{gas} \\: \\: =%.2f$' % (phi_gas, ),\n",
    "    r'$\\phi_{solid}=%.2f$' % (phi_solid, )))\n",
    "\n",
    "# these are matplotlib.patch.Patch properties\n",
    "props = dict(boxstyle=None, facecolor='w', alpha=0.2)\n",
    "\n",
    "# place a text box in upper left in axes coords\n",
    "ax.text(0.05, 0.95, textstr, transform=ax.transAxes, fontsize=18,\n",
    "        verticalalignment='top', bbox=props)\n",
    "\n",
    "\n",
    "fig.subplots_adjust(bottom=0.15, top=0.8, left=0.15)\n",
    "fig.suptitle('Experiment flow front \\n ' + title_str)\n",
    "fig.savefig('Flow_front_' + title_str + '.pdf')\n",
    "\n",
    "file_metadata = {'name': 'Flow_front_' + title_str + '.pdf', 'parents': ['1zM6oSJugXEWYybwzwO0YVvfAShTHpKbp']}\n",
    "media = MediaFileUpload('Flow_front_' + title_str + '.pdf')\n",
    "file = service.files().create(body=file_metadata,\n",
    "                                    media_body=media).execute()\n",
    "media = None"
   ]
  },
  {
   "cell_type": "code",
   "execution_count": 21,
   "metadata": {},
   "outputs": [],
   "source": [
    "# Setup model for MCMC\n",
    "\n",
    "def lnlike(mu, x, y, yerr):\n",
    "    K, tauy, n = mu\n",
    "    h, t = dambreak(x_grid, h0, theta, rho, K, tauy, n, 9.81, t_pos.iloc[-1], 50*t_pos.size)\n",
    "    X = np.zeros_like(t_pos)\n",
    "    t_match = np.zeros_like(t_pos)\n",
    "\n",
    "    threshold = 0.0001\n",
    "    for j in np.arange(t_pos.shape[0]):\n",
    "        X[j] = x_grid[np.max(np.nonzero(h[j*50,:]>threshold)) + 1] # find node with h>threshold\n",
    "        t_match[j] = t[j*50]\n",
    "    ind = np.nonzero(X[1:] - X[:-1])[0]\n",
    "    model = np.interp(t_match,t_match[ind],X[ind])\n",
    "    \n",
    "    inv_sigma2 = 1.0/(yerr**2)\n",
    "    return -0.5*(np.sum((y-model)**2*inv_sigma2 - np.log(2*np.pi*yerr**2)))"
   ]
  },
  {
   "cell_type": "code",
   "execution_count": 22,
   "metadata": {},
   "outputs": [],
   "source": [
    "# Initial guesses for MCMC\n",
    "K_init = 200\n",
    "K_min = 20\n",
    "K_max = 250\n",
    "\n",
    "tauy_init = 10\n",
    "tauy_min = 0\n",
    "tauy_max = 50\n",
    "\n",
    "n_init = 1\n",
    "n_min = 0.7\n",
    "n_max = 2.5\n",
    "\n",
    "init_pos = [K_init, tauy_init, n_init]\n",
    "\n",
    "# load data to MCMC\n",
    "x = t_pos\n",
    "y = x_pos + L\n",
    "\n",
    "# Define model resolution for MCMC\n",
    "x_grid = np.linspace(0,0.75,52)\n",
    "dx = x_grid[1] - x_grid[0]\n",
    "yerr = dx\n",
    "h0 = np.zeros_like(x_grid)\n",
    "h0[x_grid<0.2] = H"
   ]
  },
  {
   "cell_type": "code",
   "execution_count": 23,
   "metadata": {},
   "outputs": [],
   "source": [
    "# Uniform prior distribution\n",
    "def lnprior(mu):\n",
    "    K, tauy, n = mu\n",
    "    if K_min < K < K_max and tauy_min < tauy < tauy_max and n_min < n < n_max:\n",
    "        return 0.0\n",
    "    return -np.inf\n",
    "\n",
    "def lnprob(mu, x, y, yerr):\n",
    "    lp = lnprior(mu)\n",
    "    if not np.isfinite(lp):\n",
    "        return -np.inf\n",
    "    return lp + lnlike(mu, x, y, yerr)# Create walkers"
   ]
  },
  {
   "cell_type": "code",
   "execution_count": 24,
   "metadata": {},
   "outputs": [],
   "source": [
    "# Create walkers\n",
    "ndim, nwalkers = 3, 10\n",
    "mu_pos = [init_pos + [1e-1, 1e-2, 1e-2]*np.random.randn(ndim) for i in range(nwalkers)]"
   ]
  },
  {
   "cell_type": "code",
   "execution_count": null,
   "metadata": {},
   "outputs": [
    {
     "name": "stderr",
     "output_type": "stream",
     "text": [
      " 14%|█████▏                               | 7/50 [1:59:21<11:10:30, 935.59s/it]"
     ]
    }
   ],
   "source": [
    "# Run MCMC \n",
    "steps = 50\n",
    "sampler = mc.EnsembleSampler(nwalkers, ndim, lnprob, args=(x, y, yerr))\n",
    "sampler.run_mcmc(mu_pos, steps, progress=True);"
   ]
  },
  {
   "cell_type": "code",
   "execution_count": null,
   "metadata": {},
   "outputs": [],
   "source": [
    "# Inspect MCMC results\n",
    "s = 30 # ignore initial samples\n",
    "samples = sampler.chain[:, s:, :].reshape((-1, ndim))\n",
    "\n",
    "K_fit = samples[:,0]; tauy_fit = samples[:,1]; n_fit = samples[:,2]\n",
    "\n",
    "# Find mode of each posterior distribution\n",
    "N, bin_edges = np.histogram(K_fit, bins=20)\n",
    "K_post = np.mean([bin_edges[np.argmax(N)], bin_edges[np.argmax(N)+1]]) \n",
    "N, bin_edges = np.histogram(tauy_fit, bins=20)\n",
    "tauy_post = np.mean([bin_edges[np.argmax(N)], bin_edges[np.argmax(N)+1]]) \n",
    "N, bin_edges = np.histogram(n_fit, bins=20)\n",
    "n_post = np.mean([bin_edges[np.argmax(N)], bin_edges[np.argmax(N)+1]]) \n",
    "\n",
    "# Find standard deviation\n",
    "K_std = np.std(K_fit)\n",
    "tauy_std = np.std(tauy_fit)\n",
    "n_std = np.std(n_fit)\n",
    "\n",
    "# plot\n",
    "fig = corner.corner(samples, labels=[\"K\", \"tauy\", \"n\"],\n",
    "                   truths=[K_post, tauy_post, n_post])\n",
    "print('K = ' + np.array2string(K_post, precision=1) + ' +- ' + np.array2string(2*K_std, precision=1) +\n",
    "      ', tau_y = ' + np.array2string(tauy_post, precision=2) + ' +- ' + np.array2string(2*tauy_std, precision=2) +\n",
    "      ', n = ' + np.array2string(n_post, precision=2) + ' +- ' + np.array2string(2*n_std, precision=2))"
   ]
  },
  {
   "cell_type": "code",
   "execution_count": null,
   "metadata": {},
   "outputs": [],
   "source": [
    "# inspect runs\n",
    "s = 30\n",
    "samples_full = sampler.chain[:, s:, :].reshape((-1, ndim))\n",
    "\n",
    "fig,ax = plt.subplots(nrows=3, figsize=(15,15))\n",
    "ax[0].plot(samples_full[:,0],'b-')\n",
    "ax[0].hlines(K_post, 0, samples_full.shape[0],colors='r',linestyles='dashed')\n",
    "ax[0].vlines(np.arange(nwalkers)*(steps-s),np.min(samples_full[:,0]),np.max(samples_full[:,0]),colors='k',linestyles='dotted')\n",
    "ax[0].set_xlabel('iteration')\n",
    "ax[0].set_ylabel('K')\n",
    "ax[1].plot(samples_full[:,1],'b-')\n",
    "ax[1].hlines(tauy_post, 0, samples_full.shape[0],colors='r',linestyles='dashed')\n",
    "ax[1].vlines(np.arange(nwalkers)*(steps-s),np.min(samples_full[:,1]),np.max(samples_full[:,1]),colors='k',linestyles='dotted')\n",
    "ax[1].set_xlabel('iteration')\n",
    "ax[1].set_ylabel('tauy')\n",
    "ax[2].plot(samples_full[:,2],'b-')\n",
    "ax[2].hlines(n_post, 0, samples_full.shape[0],colors='r',linestyles='dashed')\n",
    "ax[2].vlines(np.arange(nwalkers)*(steps-s),np.min(samples_full[:,2]),np.max(samples_full[:,2]),colors='k',linestyles='dotted')\n",
    "ax[2].set_xlabel('iteration')\n",
    "ax[2].set_ylabel('n');"
   ]
  },
  {
   "cell_type": "code",
   "execution_count": null,
   "metadata": {},
   "outputs": [],
   "source": [
    "# Plot most probable model with data\n",
    "x_grid = np.linspace(0,0.75,52)\n",
    "dx = x_grid[1] - x_grid[0]\n",
    "h0 = np.zeros_like(x_grid)\n",
    "h0[x_grid<0.2] = H\n",
    "h, t = damBreak(x_grid, h0, theta, rho, K_post, tauy_post, n_post, 9.81, t_pos.iloc[-1], 25*t_pos.size)\n",
    "X = np.zeros_like(t_pos)\n",
    "t_match = np.zeros_like(t_pos)\n",
    "\n",
    "threshold = 0.0001\n",
    "for j in np.arange(t_pos.size):\n",
    "    X[j] = x_grid[np.max(np.nonzero(h[j*25,:]>threshold)) + 1] # find node with h>threshold\n",
    "    t_match[j] = t[j*25]\n",
    "    ind = np.nonzero(X[1:] - X[:-1])[0]\n",
    "    model = np.interp(t_match,t_match[ind],X[ind])\n",
    "\n",
    "# Plot front advance\n",
    "fig,ax = plt.subplots(figsize=(20,10))\n",
    "\n",
    "ax.plot(t_match,model,'r-',label='model');\n",
    "ax.plot(t_pos,x_pos+L,label='experiment')\n",
    "ax.set_xlabel('Time (s)')\n",
    "ax.set_ylabel('Distance (m)')\n",
    "ax.set_title('Model fit to experiment')\n",
    "ax.legend();"
   ]
  },
  {
   "cell_type": "code",
   "execution_count": 16,
   "metadata": {},
   "outputs": [
    {
     "data": {
      "image/png": "[encoded data removed]",
      "text/plain": [
       "<Figure size 1440x720 with 1 Axes>"
      ]
     },
     "metadata": {
      "needs_background": "light"
     },
     "output_type": "display_data"
    }
   ],
   "source": [
    "# Plot most probable model with data\n",
    "x_grid = np.linspace(0,0.75,52)\n",
    "dx = x_grid[1] - x_grid[0]\n",
    "h0 = np.zeros_like(x_grid)\n",
    "h0[x_grid<0.2] = H\n",
    "h, t = dambreak(x_grid, h0, 0, rho, 200, 10, 0.8, 9.81, t_pos.iloc[-1], 25*t_pos.size)\n",
    "X = np.zeros_like(t_pos)\n",
    "t_match = np.zeros_like(t_pos)\n",
    "\n",
    "threshold = 0.0001\n",
    "for j in np.arange(t_pos.size):\n",
    "    X[j] = x_grid[np.max(np.nonzero(h[j*25,:]>threshold)) + 1] # find node with h>threshold\n",
    "    t_match[j] = t[j*25]\n",
    "    ind = np.nonzero(X[1:] - X[:-1])[0]\n",
    "    model = np.interp(t_match,t_match[ind],X[ind])\n",
    "\n",
    "# Plot front advance\n",
    "fig,ax = plt.subplots(figsize=(20,10))\n",
    "\n",
    "ax.plot(t_match,model,'r-',label='model');\n",
    "ax.plot(t_pos,x_pos+L,label='experiment')\n",
    "ax.set_xlabel('Time (s)')\n",
    "ax.set_ylabel('Distance (m)')\n",
    "ax.set_title('Model fit to experiment')\n",
    "ax.legend();"
   ]
  },
  {
   "cell_type": "code",
   "execution_count": null,
   "metadata": {},
   "outputs": [],
   "source": [
    "# Save posterior distribution\n",
    "\n",
    "s = 0 # ignore initial samples\n",
    "samples = sampler.chain[:, s:, :].reshape((-1, ndim))\n",
    "K_fit = samples[:,0]; tauy_fit = samples[:,1]; n_fit = samples[:,2]\n",
    "\n",
    "\n",
    "meta['K_post'] = K_post\n",
    "meta['K_r'] = K_post/K_fluid\n",
    "meta['tauy_post'] = tauy_post\n",
    "meta['n_post'] = n_post\n",
    "meta['K_std'] = K_std\n",
    "meta['tauy_std'] = tauy_std\n",
    "meta['n_std'] = n_std\n",
    "\n",
    "meta.to_hdf(title_str + '.h5', key='meta', mode='a')\n",
    "\n",
    "samples = pd.DataFrame({'K':K_fit, 'tauy':tauy_fit, 'n':n_fit})\n",
    "samples.to_hdf(title_str + '.h5', key='s', mode='a')\n",
    "\n",
    "file_metadata = {'name': title_str + '.h5', 'parents': ['1zM6oSJugXEWYybwzwO0YVvfAShTHpKbp']}\n",
    "media = MediaFileUpload(title_str + '.h5')\n",
    "file = service.files().create(body=file_metadata,\n",
    "                                    media_body=media).execute()"
   ]
  },
  {
   "cell_type": "code",
   "execution_count": null,
   "metadata": {},
   "outputs": [],
   "source": [
    "# remove local files after upload\n",
    "media = None\n",
    "os.remove(filename)"
   ]
  }
 ],
 "metadata": {
  "kernelspec": {
   "display_name": "Python 3",
   "language": "python",
   "name": "python3"
  },
  "language_info": {
   "codemirror_mode": {
    "name": "ipython",
    "version": 3
   },
   "file_extension": ".py",
   "mimetype": "text/x-python",
   "name": "python",
   "nbconvert_exporter": "python",
   "pygments_lexer": "ipython3",
   "version": "3.5.6"
  }
 },
 "nbformat": 4,
 "nbformat_minor": 2
}

{
 "cells": [
  {
   "cell_type": "markdown",
   "metadata": {},
   "source": [
    "## MCMC from file\n",
    "\n",
    "Load hdf5 file from Data Fitting.ipynb that includes experiment meta data and time vs position data for MCMC analysis."
   ]
  },
  {
   "cell_type": "code",
   "execution_count": 1,
   "metadata": {},
   "outputs": [],
   "source": [
    "from __future__ import print_function\n",
    "import numpy as np\n",
    "from matplotlib import pyplot as plt\n",
    "%matplotlib inline\n",
    "import cv2\n",
    "import scipy.io\n",
    "import scipy.optimize as op\n",
    "import pandas as pd\n",
    "import emcee as mc\n",
    "import corner\n",
    "\n",
    "import io as IO\n",
    "import pickle\n",
    "import os\n",
    "import os.path\n",
    "from googleapiclient.discovery import build\n",
    "from googleapiclient.http import MediaIoBaseDownload\n",
    "from googleapiclient.http import MediaFileUpload\n",
    "from google_auth_oauthlib.flow import InstalledAppFlow\n",
    "from google.auth.transport.requests import Request\n",
    "from google.oauth2 import service_account"
   ]
  },
  {
   "cell_type": "code",
   "execution_count": 2,
   "metadata": {},
   "outputs": [],
   "source": [
    "# Shortcut functions for trigonometric functions in degrees\n",
    "\n",
    "def sind(theta):\n",
    "    \"\"\"Calculate sine of theta in degrees.\n",
    "    \n",
    "    :Input:\n",
    "     - *theta* (array_like) - Angle in degrees.\n",
    "     \n",
    "     :Output:\n",
    "     - (array_like) - Sine value.\n",
    "    \n",
    "    \"\"\"\n",
    "    \n",
    "    return np.sin(np.deg2rad(theta))\n",
    "\n",
    "def cosd(theta):\n",
    "    \"\"\"Calculate cosine of theta in degrees.\n",
    "    \n",
    "    :Input:\n",
    "     - *theta* (array_like) - Angle in degrees.\n",
    "     \n",
    "     :Output:\n",
    "     - (array_like) - Cosine value.\n",
    "    \n",
    "    \"\"\"\n",
    "    \n",
    "    return np.cos(np.deg2rad(theta))\n",
    "\n",
    "def tand(theta):\n",
    "    \"\"\"Calculate cosine of theta in degrees.\n",
    "    \n",
    "    :Input:\n",
    "     - *theta* (array_like) - Angle in degrees.\n",
    "     \n",
    "     :Output:\n",
    "     - (array_like) - Cosine value.\n",
    "    \n",
    "    \"\"\"\n",
    "    \n",
    "    return np.tan(np.deg2rad(theta))"
   ]
  },
  {
   "cell_type": "markdown",
   "metadata": {},
   "source": [
    "## Flow of a Herschel-Bulkley fluid on an inclined plane following derivation from Liu & Mei (1989), Balmforth et al. (2007):\n",
    "\n",
    "$ \\frac{\\partial h}{\\partial t} = -\\left( \\frac{\\rho g}{K} \\right)^{1/n} \\frac{\\partial}{\\partial x} \\left[ \\frac{n \\left| \\sin{\\theta} - \\cos{\\theta} \\frac{\\partial h}{\\partial x} \\right|^{1/n-1} Y^{1+1/n}}{(n+1)(2n+1)} \\left[(1+2n)h-nY \\right] \\left( \\sin{\\theta} -  \\cos{\\theta} \\frac{\\partial h}{\\partial x} \\right) \\right] $\n",
    "\n",
    "$ Y = h - \\frac{\\tau_y}{\\rho g |\\sin{\\theta} -\\cos{\\theta} \\frac{\\partial h}{\\partial x}|} $\n",
    "\n",
    "For full derivation see included PDF \"Viscoplastic Flow Derivation\"."
   ]
  },
  {
   "cell_type": "code",
   "execution_count": 3,
   "metadata": {},
   "outputs": [],
   "source": [
    "def damBreak(x, h0, theta, rho, K, tauy, n, g, ts, i):\n",
    "    \n",
    "    \"\"\"Solve flow for a Herschel-Bulkley fluid with 2-step Runge-Kutta \n",
    "    in time, centered in space for on an inclined surface.\n",
    "    \n",
    "    :Input:\n",
    "     - *x*     (ndarray(m+2))      - Evaluation points in x [m].\n",
    "     - *h0*    (ndarray(m+2))      - Initial height at evaluation points in x [m].\n",
    "     - *theta* (float)             - Slope [deg].\n",
    "     - *rho*   (float)             - Fluid density [kg/m^3].\n",
    "     - *K*     (float)             - Fluid consistency [Pa s].     \n",
    "     - *tauy*  (float)             - Yield stress [Pa].\n",
    "     - *n*     (float)             - Rheology power law exponent.\n",
    "     - *g*     (float)             - Gravitational constant [m/s^2].\n",
    "     - *ts*    (float)             - Final time for simulation [sec].\n",
    "     - *i*     (int)               - Number of points for discretization in t.\n",
    "     \n",
    "\n",
    "    :Output:\n",
    "     - (ndarray(m+2, i+2)) - Solution of ODE.\n",
    "     - (ndarray(i+2)) - Evaluation times.\n",
    "    \"\"\"\n",
    "\n",
    "    # Discretize domain \n",
    "    dx = x[1:] - x[:-1]\n",
    "    dt = ts/(i+1)\n",
    "    t = np.linspace(0, ts, i+2)\n",
    "\n",
    "    # Initialize solution\n",
    "    h = np.zeros((i+2,x.size))    \n",
    "    h[0,:] = h0\n",
    "    \n",
    "    # Solve\n",
    "    for k in np.arange(i+1):\n",
    "        \n",
    "        for j, s in enumerate([0.5, 1]):\n",
    "            \n",
    "            hr = (h[k+j,2:] + h[k+j,1:-1])/2\n",
    "            hl = (h[k+j,1:-1] + h[k+j,:-2])/2\n",
    "            hxr = sind(theta) - cosd(theta)*(h[k+j,2:] - h[k+j,1:-1])/dx[1:]\n",
    "            hxl = sind(theta) - cosd(theta)*(h[k+j,1:-1] - h[k+j,:-2])/dx[:-1]\n",
    "            Yr  = hr - tauy/(rho*g*np.abs(hxr))\n",
    "            Yl  = hl - tauy/(rho*g*np.abs(hxl))\n",
    "        \n",
    "            Yr[Yr<0] = 0\n",
    "            Yl[Yl<0] = 0\n",
    "        \n",
    "            Qr = n*((np.abs(hxr))**(1/n-1)*(Yr)**(1+1/n))/((n+1)*(2*n+1))*((1+2*n)*hr - n*Yr)*hxr\n",
    "            Ql = n*((np.abs(hxl))**(1/n-1)*(Yl)**(1+1/n))/((n+1)*(2*n+1))*((1+2*n)*hl - n*Yl)*hxl\n",
    "        \n",
    "            Qr[hxr==0] = 0\n",
    "            Ql[hxl==0] = 0\n",
    "    \n",
    "            h[k+1,1:-1] = h[k,1:-1] - s*dt/dx[:-1]*(rho*g/K)**(1/n)*(Qr - Ql)\n",
    "            \n",
    "            # Boundary conditions\n",
    "            h[k+1,0] = h[k+1,1]\n",
    "    \n",
    "    return h, t"
   ]
  },
  {
   "cell_type": "code",
   "execution_count": 4,
   "metadata": {},
   "outputs": [
    {
     "name": "stdout",
     "output_type": "stream",
     "text": [
      "Download 100%.\n",
      "Saving local copy\n",
      "Done! Loaded 55% Gas.h5\n"
     ]
    }
   ],
   "source": [
    "# import from google drive\n",
    "\n",
    "SCOPES = ['https://www.googleapis.com/auth/drive']\n",
    "\n",
    "\"\"\"Shows basic usage of the Drive v3 API.\n",
    "Prints the names and ids of the first 10 files the user has access to.\n",
    "\"\"\"\n",
    "creds = None\n",
    "# The file token.pickle stores the user's access and refresh tokens, and is\n",
    "# created automatically when the authorization flow completes for the first\n",
    "# time.\n",
    "if os.path.exists('token_JB.pickle'):\n",
    "    with open('token_JB.pickle', 'rb') as token:\n",
    "        creds = pickle.load(token)\n",
    "# If there are no (valid) credentials available, let the user log in.\n",
    "if not creds or not creds.valid:\n",
    "    if creds and creds.expired and creds.refresh_token:\n",
    "        creds.refresh(Request())\n",
    "    else:\n",
    "        flow = InstalledAppFlow.from_client_secrets_file(\n",
    "            'client_secret.json', SCOPES)\n",
    "        creds = flow.run_local_server(port=0)\n",
    "    # Save the credentials for the next run\n",
    "    with open('token_JB.pickle', 'wb') as token:\n",
    "        pickle.dump(creds, token)\n",
    "        \n",
    "service = build('drive', 'v3', credentials=creds)\n",
    "\n",
    "# Call the Drive v3 API\n",
    "results = service.files().list(q = \"name contains '55% Gas.h5'\", # change just this line to the h5 filename\n",
    "    pageSize=5, fields=\"nextPageToken, files(id, name)\").execute()\n",
    "items = results.get('files', [])\n",
    "\n",
    "if not items:\n",
    "    print('No files found.')\n",
    "\n",
    "fileid = items[0]['id']\n",
    "filename =  items[0]['name']\n",
    "filepath = os.getcwd()\n",
    "request = service.files().get_media(fileId=fileid)\n",
    "fh = IO.BytesIO()\n",
    "downloader = MediaIoBaseDownload(fh, request)\n",
    "done = False\n",
    "while done is False:\n",
    "    status, done = downloader.next_chunk()\n",
    "    print(\"Download %d%%.\" % int(status.progress() * 100))\n",
    "\n",
    "print('Saving local copy')\n",
    "with IO.open(filepath + '/' + filename, 'wb') as f:\n",
    "    fh.seek(0)\n",
    "    f.write(fh.read())\n",
    "print('Done! Loaded ' + filename)"
   ]
  },
  {
   "cell_type": "code",
   "execution_count": 5,
   "metadata": {},
   "outputs": [
    {
     "name": "stdout",
     "output_type": "stream",
     "text": [
      "      H    L    K_fluid   Rho  Slope    Title  Temp\n",
      "0  0.07  0.2  12.141238  5160      0  55% Gas  18.8\n",
      "   X_pos      Time\n",
      "0    0.0  0.033367\n",
      "1    0.0  0.066733\n",
      "2    0.0  0.100100\n",
      "3    0.0  0.133467\n",
      "4    0.0  0.166833\n"
     ]
    },
    {
     "data": {
      "image/png": "[encoded data removed]",
      "text/plain": [
       "<Figure size 1080x216 with 1 Axes>"
      ]
     },
     "metadata": {
      "needs_background": "light"
     },
     "output_type": "display_data"
    }
   ],
   "source": [
    "meta = pd.read_hdf(filename, key='meta')\n",
    "print(meta)\n",
    "H = meta.H[0]\n",
    "L = meta.L[0]\n",
    "K_fluid = meta.K_fluid[0]\n",
    "rho = meta.Rho[0]\n",
    "theta = meta.Slope[0]\n",
    "T = meta.Temp[0]\n",
    "\n",
    "dat = pd.read_hdf(filename, key='df')\n",
    "print(dat.head())\n",
    "\n",
    "t0 = 1 # Time of dam release [sec]\n",
    "tloc = int(t0/(dat.Time[1] - dat.Time[0]))\n",
    "t_pos = dat.Time.iloc[tloc:] - dat.Time.iloc[tloc]\n",
    "t_pos = t_pos*2\n",
    "x_pos = dat.X_pos.iloc[tloc:]- dat.X_pos.iloc[tloc]\n",
    "\n",
    "# plot scaled front advance\n",
    "fig,ax = plt.subplots(figsize=(15,3))\n",
    "ax.plot(t_pos, x_pos*100)\n",
    "ax.set_xlabel('Time (sec)')\n",
    "ax.set_ylabel('Distance (cm)')\n",
    "ax.set_title('Experiment flow advance');"
   ]
  },
  {
   "cell_type": "code",
   "execution_count": 12,
   "metadata": {},
   "outputs": [],
   "source": [
    "# Setup model for MCMC\n",
    "\n",
    "def lnlike(mu, x, y, yerr):\n",
    "    K, tauy, n = mu\n",
    "    h, t = damBreak(x_grid, h0, 0, 1540, K, tauy, n, 9.81, t_pos.iloc[-1], 25*t_pos.size)\n",
    "    X = np.zeros_like(t_pos)\n",
    "\n",
    "    threshold = 0.0001\n",
    "    for j in np.arange(t_pos.shape[0]):\n",
    "        X[j] = x_grid[np.max(np.nonzero(h[j*25,:]>threshold)) + 1] # find node with h>threshold\n",
    "\n",
    "    model = X\n",
    "    inv_sigma2 = 1.0/(yerr**2)\n",
    "    return -0.5*(np.sum((y-model)**2*inv_sigma2 - np.log(2*np.pi*yerr**2)))"
   ]
  },
  {
   "cell_type": "code",
   "execution_count": 17,
   "metadata": {},
   "outputs": [
    {
     "data": {
      "text/plain": [
       "array([0.07, 0.07, 0.07, 0.07, 0.07, 0.07, 0.  , 0.  , 0.  , 0.  , 0.  ,\n",
       "       0.  , 0.  , 0.  , 0.  , 0.  , 0.  , 0.  , 0.  , 0.  , 0.  , 0.  ])"
      ]
     },
     "execution_count": 17,
     "metadata": {},
     "output_type": "execute_result"
    }
   ],
   "source": [
    "x_grid\n",
    "h0"
   ]
  },
  {
   "cell_type": "code",
   "execution_count": 11,
   "metadata": {},
   "outputs": [],
   "source": [
    "# Initial guesses for MCMC\n",
    "K_init = 6\n",
    "K_min = 3\n",
    "K_max = 10\n",
    "\n",
    "tauy_init = 0.05\n",
    "tauy_min = 0\n",
    "tauy_max = 0.5\n",
    "\n",
    "n_init = 1\n",
    "n_min = 0.8\n",
    "n_max = 3\n",
    "\n",
    "init_pos = [K_init, tauy_init, n_init]\n",
    "\n",
    "# load data to MCMC\n",
    "x = t_pos\n",
    "y = x_pos + L\n",
    "\n",
    "# Define model resolution for MCMC\n",
    "x_grid = np.linspace(0,0.75,22)\n",
    "dx = x_grid[1] - x_grid[0]\n",
    "yerr = dx\n",
    "h0 = np.zeros_like(x_grid)\n",
    "h0[x_grid<0.2] = H"
   ]
  },
  {
   "cell_type": "code",
   "execution_count": 13,
   "metadata": {},
   "outputs": [],
   "source": [
    "# Uniform prior distribution\n",
    "def lnprior(mu):\n",
    "    K, tauy, n = mu\n",
    "    if K_min < K < K_max and tauy_min < tauy < tauy_max and n_min < n < n_max:\n",
    "        return 0.0\n",
    "    return -np.inf\n",
    "\n",
    "def lnprob(mu, x, y, yerr):\n",
    "    lp = lnprior(mu)\n",
    "    if not np.isfinite(lp):\n",
    "        return -np.inf\n",
    "    return lp + lnlike(mu, x, y, yerr)# Create walkers"
   ]
  },
  {
   "cell_type": "code",
   "execution_count": 33,
   "metadata": {},
   "outputs": [
    {
     "data": {
      "text/plain": [
       "[array([6.00554386, 0.04630485, 0.99971183]),\n",
       " array([5.99840539, 0.07204115, 0.97988358]),\n",
       " array([5.99922881, 0.04485309, 0.99772731]),\n",
       " array([5.99670294, 0.04806411, 1.00678611]),\n",
       " array([5.99477609, 0.06660398, 1.00352866]),\n",
       " array([6.00874359, 0.05665768, 0.99032075])]"
      ]
     },
     "execution_count": 33,
     "metadata": {},
     "output_type": "execute_result"
    }
   ],
   "source": [
    "# Create walkers\n",
    "ndim, nwalkers = 3, 6\n",
    "mu_pos = [init_pos + [1e-2, 1e-2, 1e-2]*np.random.randn(ndim) for i in range(nwalkers)]"
   ]
  },
  {
   "cell_type": "code",
   "execution_count": null,
   "metadata": {},
   "outputs": [
    {
     "name": "stderr",
     "output_type": "stream",
     "text": [
      "C:\\Users\\Janine\\Anaconda3\\envs\\three-phase-flow\\lib\\site-packages\\ipykernel_launcher.py:42: RuntimeWarning: divide by zero encountered in true_divide\n",
      "C:\\Users\\Janine\\Anaconda3\\envs\\three-phase-flow\\lib\\site-packages\\ipykernel_launcher.py:43: RuntimeWarning: divide by zero encountered in true_divide\n",
      "C:\\Users\\Janine\\Anaconda3\\envs\\three-phase-flow\\lib\\site-packages\\ipykernel_launcher.py:48: RuntimeWarning: divide by zero encountered in power\n",
      "C:\\Users\\Janine\\Anaconda3\\envs\\three-phase-flow\\lib\\site-packages\\ipykernel_launcher.py:48: RuntimeWarning: invalid value encountered in multiply\n",
      "C:\\Users\\Janine\\Anaconda3\\envs\\three-phase-flow\\lib\\site-packages\\ipykernel_launcher.py:49: RuntimeWarning: divide by zero encountered in power\n",
      "C:\\Users\\Janine\\Anaconda3\\envs\\three-phase-flow\\lib\\site-packages\\ipykernel_launcher.py:49: RuntimeWarning: invalid value encountered in multiply\n"
     ]
    }
   ],
   "source": [
    "# Run MCMC\n",
    "sampler = mc.EnsembleSampler(nwalkers, ndim, lnprob, args=(x, y, yerr))\n",
    "sampler.run_mcmc(mu_pos, 30);"
   ]
  },
  {
   "cell_type": "code",
   "execution_count": null,
   "metadata": {},
   "outputs": [],
   "source": [
    "# Inspect MCMC results\n",
    "s = 0 # ignore initial samples\n",
    "samples = sampler.chain[:, s:, :].reshape((-1, ndim))\n",
    "\n",
    "K_fit = samples[:,0]; tauy_fit = samples[:,1]; n_fit = samples[:,2]\n",
    "\n",
    "# Find mode of each posterior distribution\n",
    "N, bin_edges = np.histogram(K_fit, bins=20)\n",
    "K_post = np.mean([bin_edges[np.argmax(N)], bin_edges[np.argmax(N)+1]]) \n",
    "N, bin_edges = np.histogram(tauy_fit, bins=20)\n",
    "tauy_post = np.mean([bin_edges[np.argmax(N)], bin_edges[np.argmax(N)+1]]) \n",
    "N, bin_edges = np.histogram(n_fit, bins=20)\n",
    "n_post = np.mean([bin_edges[np.argmax(N)], bin_edges[np.argmax(N)+1]]) \n",
    "\n",
    "# plot\n",
    "fig = corner.corner(samples, labels=[\"K\", \"tauy\", \"n\"],\n",
    "                   truths=[K_post, tauy_post, n_post])\n",
    "print('K = ' + np.array2string(K_post, precision=1) + \n",
    "      ', tau_y = ' + np.array2string(tauy_post, precision=2) + \n",
    "      ', n = ' + np.array2string(n_post, precision=2))"
   ]
  },
  {
   "cell_type": "code",
   "execution_count": 124,
   "metadata": {},
   "outputs": [
    {
     "data": {
      "image/png": "[encoded data removed]",
      "text/plain": [
       "<Figure size 1080x1080 with 3 Axes>"
      ]
     },
     "metadata": {
      "needs_background": "light"
     },
     "output_type": "display_data"
    }
   ],
   "source": [
    "# inspect runs\n",
    "samples_full = sampler.chain[:, :, :].reshape((-1, ndim))\n",
    "\n",
    "fig,ax = plt.subplots(nrows=3, figsize=(15,15))\n",
    "ax[0].plot(samples_full[:,0],'b-')\n",
    "ax[0].plot([0, samples_full.shape[0]],[K_post, K_post],'r--')\n",
    "ax[0].set_xlabel('iteration')\n",
    "ax[0].set_ylabel('K')\n",
    "ax[1].plot(samples_full[:,1],'b-')\n",
    "ax[1].plot([0, samples_full.shape[0]],[tauy_post, tauy_post],'r--')\n",
    "ax[1].set_xlabel('iteration')\n",
    "ax[1].set_ylabel('tauy')\n",
    "ax[2].plot(samples_full[:,2],'b-')\n",
    "ax[2].plot([0, samples_full.shape[0]],[n_post, n_post],'r--')\n",
    "ax[2].set_xlabel('iteration')\n",
    "ax[2].set_ylabel('n');"
   ]
  },
  {
   "cell_type": "code",
   "execution_count": 126,
   "metadata": {},
   "outputs": [
    {
     "name": "stderr",
     "output_type": "stream",
     "text": [
      "C:\\Users\\Janine\\Anaconda3\\envs\\three-phase-flow\\lib\\site-packages\\ipykernel_launcher.py:42: RuntimeWarning: divide by zero encountered in true_divide\n",
      "C:\\Users\\Janine\\Anaconda3\\envs\\three-phase-flow\\lib\\site-packages\\ipykernel_launcher.py:43: RuntimeWarning: divide by zero encountered in true_divide\n",
      "C:\\Users\\Janine\\Anaconda3\\envs\\three-phase-flow\\lib\\site-packages\\ipykernel_launcher.py:48: RuntimeWarning: divide by zero encountered in power\n",
      "C:\\Users\\Janine\\Anaconda3\\envs\\three-phase-flow\\lib\\site-packages\\ipykernel_launcher.py:48: RuntimeWarning: invalid value encountered in multiply\n",
      "C:\\Users\\Janine\\Anaconda3\\envs\\three-phase-flow\\lib\\site-packages\\ipykernel_launcher.py:49: RuntimeWarning: divide by zero encountered in power\n",
      "C:\\Users\\Janine\\Anaconda3\\envs\\three-phase-flow\\lib\\site-packages\\ipykernel_launcher.py:49: RuntimeWarning: invalid value encountered in multiply\n",
      "C:\\Users\\Janine\\Anaconda3\\envs\\three-phase-flow\\lib\\site-packages\\ipykernel_launcher.py:48: RuntimeWarning: overflow encountered in power\n",
      "C:\\Users\\Janine\\Anaconda3\\envs\\three-phase-flow\\lib\\site-packages\\ipykernel_launcher.py:49: RuntimeWarning: overflow encountered in power\n",
      "C:\\Users\\Janine\\Anaconda3\\envs\\three-phase-flow\\lib\\site-packages\\ipykernel_launcher.py:38: RuntimeWarning: invalid value encountered in add\n",
      "C:\\Users\\Janine\\Anaconda3\\envs\\three-phase-flow\\lib\\site-packages\\ipykernel_launcher.py:39: RuntimeWarning: invalid value encountered in add\n",
      "C:\\Users\\Janine\\Anaconda3\\envs\\three-phase-flow\\lib\\site-packages\\ipykernel_launcher.py:45: RuntimeWarning: invalid value encountered in less\n",
      "C:\\Users\\Janine\\Anaconda3\\envs\\three-phase-flow\\lib\\site-packages\\ipykernel_launcher.py:46: RuntimeWarning: invalid value encountered in less\n",
      "C:\\Users\\Janine\\Anaconda3\\envs\\three-phase-flow\\lib\\site-packages\\ipykernel_launcher.py:48: RuntimeWarning: invalid value encountered in subtract\n",
      "C:\\Users\\Janine\\Anaconda3\\envs\\three-phase-flow\\lib\\site-packages\\ipykernel_launcher.py:49: RuntimeWarning: invalid value encountered in subtract\n",
      "C:\\Users\\Janine\\Anaconda3\\envs\\three-phase-flow\\lib\\site-packages\\ipykernel_launcher.py:9: RuntimeWarning: invalid value encountered in greater\n",
      "  if __name__ == '__main__':\n"
     ]
    },
    {
     "ename": "ValueError",
     "evalue": "zero-size array to reduction operation maximum which has no identity",
     "output_type": "error",
     "traceback": [
      "\u001b[1;31m---------------------------------------------------------------------------\u001b[0m",
      "\u001b[1;31mValueError\u001b[0m                                Traceback (most recent call last)",
      "\u001b[1;32m<ipython-input-126-b35eb3ac58fa>\u001b[0m in \u001b[0;36m<module>\u001b[1;34m()\u001b[0m\n\u001b[0;32m      7\u001b[0m \u001b[0mthreshold\u001b[0m \u001b[1;33m=\u001b[0m \u001b[1;36m0.0001\u001b[0m\u001b[1;33m\u001b[0m\u001b[0m\n\u001b[0;32m      8\u001b[0m \u001b[1;32mfor\u001b[0m \u001b[0mj\u001b[0m \u001b[1;32min\u001b[0m \u001b[0mnp\u001b[0m\u001b[1;33m.\u001b[0m\u001b[0marange\u001b[0m\u001b[1;33m(\u001b[0m\u001b[0mt_pos\u001b[0m\u001b[1;33m.\u001b[0m\u001b[0msize\u001b[0m\u001b[1;33m)\u001b[0m\u001b[1;33m:\u001b[0m\u001b[1;33m\u001b[0m\u001b[0m\n\u001b[1;32m----> 9\u001b[1;33m     \u001b[0mX\u001b[0m\u001b[1;33m[\u001b[0m\u001b[0mj\u001b[0m\u001b[1;33m]\u001b[0m \u001b[1;33m=\u001b[0m \u001b[0mx_grid\u001b[0m\u001b[1;33m[\u001b[0m\u001b[0mnp\u001b[0m\u001b[1;33m.\u001b[0m\u001b[0mmax\u001b[0m\u001b[1;33m(\u001b[0m\u001b[0mnp\u001b[0m\u001b[1;33m.\u001b[0m\u001b[0mnonzero\u001b[0m\u001b[1;33m(\u001b[0m\u001b[0mh\u001b[0m\u001b[1;33m[\u001b[0m\u001b[0mj\u001b[0m\u001b[1;33m*\u001b[0m\u001b[1;36m25\u001b[0m\u001b[1;33m,\u001b[0m\u001b[1;33m:\u001b[0m\u001b[1;33m]\u001b[0m\u001b[1;33m>\u001b[0m\u001b[0mthreshold\u001b[0m\u001b[1;33m)\u001b[0m\u001b[1;33m)\u001b[0m \u001b[1;33m+\u001b[0m \u001b[1;36m1\u001b[0m\u001b[1;33m]\u001b[0m \u001b[1;31m# find node with h>threshold\u001b[0m\u001b[1;33m\u001b[0m\u001b[0m\n\u001b[0m\u001b[0;32m     10\u001b[0m     \u001b[0mt_match\u001b[0m\u001b[1;33m[\u001b[0m\u001b[0mj\u001b[0m\u001b[1;33m]\u001b[0m \u001b[1;33m=\u001b[0m \u001b[0mt\u001b[0m\u001b[1;33m[\u001b[0m\u001b[0mj\u001b[0m\u001b[1;33m*\u001b[0m\u001b[1;36m25\u001b[0m\u001b[1;33m]\u001b[0m\u001b[1;33m\u001b[0m\u001b[0m\n\u001b[0;32m     11\u001b[0m \u001b[1;33m\u001b[0m\u001b[0m\n",
      "\u001b[1;32m~\\Anaconda3\\envs\\three-phase-flow\\lib\\site-packages\\numpy\\core\\fromnumeric.py\u001b[0m in \u001b[0;36mamax\u001b[1;34m(a, axis, out, keepdims, initial)\u001b[0m\n\u001b[0;32m   2332\u001b[0m     \"\"\"\n\u001b[0;32m   2333\u001b[0m     return _wrapreduction(a, np.maximum, 'max', axis, None, out, keepdims=keepdims,\n\u001b[1;32m-> 2334\u001b[1;33m                           initial=initial)\n\u001b[0m\u001b[0;32m   2335\u001b[0m \u001b[1;33m\u001b[0m\u001b[0m\n\u001b[0;32m   2336\u001b[0m \u001b[1;33m\u001b[0m\u001b[0m\n",
      "\u001b[1;32m~\\Anaconda3\\envs\\three-phase-flow\\lib\\site-packages\\numpy\\core\\fromnumeric.py\u001b[0m in \u001b[0;36m_wrapreduction\u001b[1;34m(obj, ufunc, method, axis, dtype, out, **kwargs)\u001b[0m\n\u001b[0;32m     81\u001b[0m                 \u001b[1;32mreturn\u001b[0m \u001b[0mreduction\u001b[0m\u001b[1;33m(\u001b[0m\u001b[0maxis\u001b[0m\u001b[1;33m=\u001b[0m\u001b[0maxis\u001b[0m\u001b[1;33m,\u001b[0m \u001b[0mout\u001b[0m\u001b[1;33m=\u001b[0m\u001b[0mout\u001b[0m\u001b[1;33m,\u001b[0m \u001b[1;33m**\u001b[0m\u001b[0mpasskwargs\u001b[0m\u001b[1;33m)\u001b[0m\u001b[1;33m\u001b[0m\u001b[0m\n\u001b[0;32m     82\u001b[0m \u001b[1;33m\u001b[0m\u001b[0m\n\u001b[1;32m---> 83\u001b[1;33m     \u001b[1;32mreturn\u001b[0m \u001b[0mufunc\u001b[0m\u001b[1;33m.\u001b[0m\u001b[0mreduce\u001b[0m\u001b[1;33m(\u001b[0m\u001b[0mobj\u001b[0m\u001b[1;33m,\u001b[0m \u001b[0maxis\u001b[0m\u001b[1;33m,\u001b[0m \u001b[0mdtype\u001b[0m\u001b[1;33m,\u001b[0m \u001b[0mout\u001b[0m\u001b[1;33m,\u001b[0m \u001b[1;33m**\u001b[0m\u001b[0mpasskwargs\u001b[0m\u001b[1;33m)\u001b[0m\u001b[1;33m\u001b[0m\u001b[0m\n\u001b[0m\u001b[0;32m     84\u001b[0m \u001b[1;33m\u001b[0m\u001b[0m\n\u001b[0;32m     85\u001b[0m \u001b[1;33m\u001b[0m\u001b[0m\n",
      "\u001b[1;31mValueError\u001b[0m: zero-size array to reduction operation maximum which has no identity"
     ]
    }
   ],
   "source": [
    "# Plot most probable model with data\n",
    "\n",
    "h, t = damBreak(x_grid, h0, 0, 1540, K_post, tauy_post, n_post, 9.81, t_pos.iloc[-1], 25*t_pos.size)\n",
    "X = np.zeros_like(t_pos)\n",
    "t_match = np.zeros_like(t_pos)\n",
    "\n",
    "threshold = 0.0001\n",
    "for j in np.arange(t_pos.size):\n",
    "    X[j] = x_grid[np.max(np.nonzero(h[j*25,:]>threshold)) + 1] # find node with h>threshold\n",
    "    t_match[j] = t[j*25]\n",
    "\n",
    "# Plot front advance\n",
    "fig,ax = plt.subplots(figsize=(20,10))\n",
    "\n",
    "ax.plot(t_match,X,'r-',label='model');\n",
    "ax.plot(t_pos,x_pos+L,label='experiment')\n",
    "ax.set_xlabel('Time (s)')\n",
    "ax.set_ylabel('Distance (m)')\n",
    "ax.set_title('Model fit to experiment')\n",
    "ax.legend();"
   ]
  },
  {
   "cell_type": "code",
   "execution_count": null,
   "metadata": {},
   "outputs": [],
   "source": [
    "# Save posterior distribution\n",
    "\n",
    "meta['K_post'] = K_post\n",
    "meta['K_r'] = K_post/K_fluid\n",
    "meta['tauy_post'] = tauy_post\n",
    "meta['n_post'] = n_post\n",
    "\n",
    "meta.to_hdf(title_str + '.h5', key='meta', mode='a')\n",
    "\n",
    "samples = pd.DataFrame({'K':K_fit, 'tauy':tauy_fit, 'n':n_fit})\n",
    "samples.to_hdf(title_str + '.h5', key='s', mode='a')\n",
    "\n",
    "file_metadata = {'name': title_str + '.h5', 'parents': ['1zM6oSJugXEWYybwzwO0YVvfAShTHpKbp']}\n",
    "media = MediaFileUpload(title_str + '.h5')\n",
    "file = service.files().create(body=file_metadata,\n",
    "                                    media_body=media).execute()"
   ]
  },
  {
   "cell_type": "code",
   "execution_count": null,
   "metadata": {},
   "outputs": [],
   "source": [
    "# remove local files after upload\n",
    "media = None\n",
    "os.remove(filename)"
   ]
  }
 ],
 "metadata": {
  "kernelspec": {
   "display_name": "Python 3",
   "language": "python",
   "name": "python3"
  },
  "language_info": {
   "codemirror_mode": {
    "name": "ipython",
    "version": 3
   },
   "file_extension": ".py",
   "mimetype": "text/x-python",
   "name": "python",
   "nbconvert_exporter": "python",
   "pygments_lexer": "ipython3",
   "version": "3.5.6"
  }
 },
 "nbformat": 4,
 "nbformat_minor": 2
}
